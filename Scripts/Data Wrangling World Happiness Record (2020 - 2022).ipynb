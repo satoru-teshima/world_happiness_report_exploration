{
 "cells": [
  {
   "cell_type": "markdown",
   "id": "a02cdc9f",
   "metadata": {},
   "source": [
    "# Data Wrangling World Happiness Record (2020 - 2021)"
   ]
  },
  {
   "cell_type": "markdown",
   "id": "ea5c2736",
   "metadata": {},
   "source": [
    "The World Happiness Report is a yearly report that ranks countries based on how happy and satisfied their people are.   \n",
    "It looks at things like how people feel about their lives, their emotions, and factors like having friends and being able to make choices.   \n",
    "The report helps us understand what makes people in different countries happy and can be used to make policies to improve people's well-being."
   ]
  },
  {
   "cell_type": "markdown",
   "id": "23d8c5c7",
   "metadata": {},
   "source": [
    "This **Data Wrangling** involves the following tasks  \n",
    "- Dropping columns\n",
    "- Renaming columns\n",
    "- Finding duplicates \n",
    "- Finding missing values\n",
    "- Deriving new columns "
   ]
  },
  {
   "cell_type": "markdown",
   "id": "4561a8a2",
   "metadata": {},
   "source": [
    "## INDEX\n",
    "1. [Wrangle 2020 dataset](#Wrangle-2020-dataset)\n",
    "1. [Wrangle 2021 dataset](#Wrangle-2021-dataset)\n",
    "1. [Wrangle 2022 dataset](#Wrangle-2022-dataset)\n",
    "1. [Merge Data](#Merge-Data)\n",
    "1. [Data Profiling](#Data-Profiling)"
   ]
  },
  {
   "cell_type": "code",
   "execution_count": 180,
   "id": "dd3e8092",
   "metadata": {},
   "outputs": [],
   "source": [
    "#import necessary libraries\n",
    "import pandas as pd\n",
    "import numpy as np\n",
    "import os"
   ]
  },
  {
   "cell_type": "code",
   "execution_count": 181,
   "id": "b475cf84",
   "metadata": {},
   "outputs": [],
   "source": [
    "#set display parameter\n",
    "pd.set_option('display.max_rows', None)\n",
    "pd.set_option('display.max_columns', None)"
   ]
  },
  {
   "cell_type": "code",
   "execution_count": 182,
   "id": "96bcb79b",
   "metadata": {},
   "outputs": [],
   "source": [
    "#assigning path and import 2015-2022 csv\n",
    "path = '/Users/satoruteshima/Documents/CareerFoundry/06 Date Immersion 6/Scripts'\n",
    "df_2020 = pd.read_csv(os.path.join(path, 'Raw', '2020.csv'), index_col = False)\n",
    "df_2021 = pd.read_csv(os.path.join(path, 'Raw', '2021.csv'), index_col = False)\n",
    "df_2022 = pd.read_csv(os.path.join(path, 'Raw', '2022.csv'), index_col = False)"
   ]
  },
  {
   "cell_type": "markdown",
   "id": "bac391cc",
   "metadata": {},
   "source": [
    "## Wrangle 2020 dataset"
   ]
  },
  {
   "cell_type": "code",
   "execution_count": 183,
   "id": "f0ef04b4",
   "metadata": {},
   "outputs": [
    {
     "data": {
      "text/plain": [
       "Country name                                  0\n",
       "Regional indicator                            0\n",
       "Ladder score                                  0\n",
       "Standard error of ladder score                0\n",
       "upperwhisker                                  0\n",
       "lowerwhisker                                  0\n",
       "Logged GDP per capita                         0\n",
       "Social support                                0\n",
       "Healthy life expectancy                       0\n",
       "Freedom to make life choices                  0\n",
       "Generosity                                    0\n",
       "Perceptions of corruption                     0\n",
       "Ladder score in Dystopia                      0\n",
       "Explained by: Log GDP per capita              0\n",
       "Explained by: Social support                  0\n",
       "Explained by: Healthy life expectancy         0\n",
       "Explained by: Freedom to make life choices    0\n",
       "Explained by: Generosity                      0\n",
       "Explained by: Perceptions of corruption       0\n",
       "Dystopia + residual                           0\n",
       "dtype: int64"
      ]
     },
     "execution_count": 183,
     "metadata": {},
     "output_type": "execute_result"
    }
   ],
   "source": [
    "#Find missing values\n",
    "missing_values = df_2020.isna() \n",
    "missing_values.sum()"
   ]
  },
  {
   "cell_type": "code",
   "execution_count": 184,
   "id": "06c00a4a",
   "metadata": {},
   "outputs": [
    {
     "data": {
      "text/html": [
       "<div>\n",
       "<style scoped>\n",
       "    .dataframe tbody tr th:only-of-type {\n",
       "        vertical-align: middle;\n",
       "    }\n",
       "\n",
       "    .dataframe tbody tr th {\n",
       "        vertical-align: top;\n",
       "    }\n",
       "\n",
       "    .dataframe thead th {\n",
       "        text-align: right;\n",
       "    }\n",
       "</style>\n",
       "<table border=\"1\" class=\"dataframe\">\n",
       "  <thead>\n",
       "    <tr style=\"text-align: right;\">\n",
       "      <th></th>\n",
       "      <th>Country name</th>\n",
       "      <th>Regional indicator</th>\n",
       "      <th>Ladder score</th>\n",
       "      <th>Standard error of ladder score</th>\n",
       "      <th>upperwhisker</th>\n",
       "      <th>lowerwhisker</th>\n",
       "      <th>Logged GDP per capita</th>\n",
       "      <th>Social support</th>\n",
       "      <th>Healthy life expectancy</th>\n",
       "      <th>Freedom to make life choices</th>\n",
       "      <th>Generosity</th>\n",
       "      <th>Perceptions of corruption</th>\n",
       "      <th>Ladder score in Dystopia</th>\n",
       "      <th>Explained by: Log GDP per capita</th>\n",
       "      <th>Explained by: Social support</th>\n",
       "      <th>Explained by: Healthy life expectancy</th>\n",
       "      <th>Explained by: Freedom to make life choices</th>\n",
       "      <th>Explained by: Generosity</th>\n",
       "      <th>Explained by: Perceptions of corruption</th>\n",
       "      <th>Dystopia + residual</th>\n",
       "    </tr>\n",
       "  </thead>\n",
       "  <tbody>\n",
       "    <tr>\n",
       "      <th>0</th>\n",
       "      <td>Finland</td>\n",
       "      <td>Western Europe</td>\n",
       "      <td>7.8087</td>\n",
       "      <td>0.031156</td>\n",
       "      <td>7.869766</td>\n",
       "      <td>7.747634</td>\n",
       "      <td>10.639267</td>\n",
       "      <td>0.954330</td>\n",
       "      <td>71.900825</td>\n",
       "      <td>0.949172</td>\n",
       "      <td>-0.059482</td>\n",
       "      <td>0.195445</td>\n",
       "      <td>1.972317</td>\n",
       "      <td>1.285190</td>\n",
       "      <td>1.499526</td>\n",
       "      <td>0.961271</td>\n",
       "      <td>0.662317</td>\n",
       "      <td>0.159670</td>\n",
       "      <td>0.477857</td>\n",
       "      <td>2.762835</td>\n",
       "    </tr>\n",
       "    <tr>\n",
       "      <th>1</th>\n",
       "      <td>Denmark</td>\n",
       "      <td>Western Europe</td>\n",
       "      <td>7.6456</td>\n",
       "      <td>0.033492</td>\n",
       "      <td>7.711245</td>\n",
       "      <td>7.579955</td>\n",
       "      <td>10.774001</td>\n",
       "      <td>0.955991</td>\n",
       "      <td>72.402504</td>\n",
       "      <td>0.951444</td>\n",
       "      <td>0.066202</td>\n",
       "      <td>0.168489</td>\n",
       "      <td>1.972317</td>\n",
       "      <td>1.326949</td>\n",
       "      <td>1.503449</td>\n",
       "      <td>0.979333</td>\n",
       "      <td>0.665040</td>\n",
       "      <td>0.242793</td>\n",
       "      <td>0.495260</td>\n",
       "      <td>2.432741</td>\n",
       "    </tr>\n",
       "    <tr>\n",
       "      <th>2</th>\n",
       "      <td>Switzerland</td>\n",
       "      <td>Western Europe</td>\n",
       "      <td>7.5599</td>\n",
       "      <td>0.035014</td>\n",
       "      <td>7.628528</td>\n",
       "      <td>7.491272</td>\n",
       "      <td>10.979933</td>\n",
       "      <td>0.942847</td>\n",
       "      <td>74.102448</td>\n",
       "      <td>0.921337</td>\n",
       "      <td>0.105911</td>\n",
       "      <td>0.303728</td>\n",
       "      <td>1.972317</td>\n",
       "      <td>1.390774</td>\n",
       "      <td>1.472403</td>\n",
       "      <td>1.040533</td>\n",
       "      <td>0.628954</td>\n",
       "      <td>0.269056</td>\n",
       "      <td>0.407946</td>\n",
       "      <td>2.350267</td>\n",
       "    </tr>\n",
       "    <tr>\n",
       "      <th>3</th>\n",
       "      <td>Iceland</td>\n",
       "      <td>Western Europe</td>\n",
       "      <td>7.5045</td>\n",
       "      <td>0.059616</td>\n",
       "      <td>7.621347</td>\n",
       "      <td>7.387653</td>\n",
       "      <td>10.772559</td>\n",
       "      <td>0.974670</td>\n",
       "      <td>73.000000</td>\n",
       "      <td>0.948892</td>\n",
       "      <td>0.246944</td>\n",
       "      <td>0.711710</td>\n",
       "      <td>1.972317</td>\n",
       "      <td>1.326502</td>\n",
       "      <td>1.547567</td>\n",
       "      <td>1.000843</td>\n",
       "      <td>0.661981</td>\n",
       "      <td>0.362330</td>\n",
       "      <td>0.144541</td>\n",
       "      <td>2.460688</td>\n",
       "    </tr>\n",
       "    <tr>\n",
       "      <th>4</th>\n",
       "      <td>Norway</td>\n",
       "      <td>Western Europe</td>\n",
       "      <td>7.4880</td>\n",
       "      <td>0.034837</td>\n",
       "      <td>7.556281</td>\n",
       "      <td>7.419719</td>\n",
       "      <td>11.087804</td>\n",
       "      <td>0.952487</td>\n",
       "      <td>73.200783</td>\n",
       "      <td>0.955750</td>\n",
       "      <td>0.134533</td>\n",
       "      <td>0.263218</td>\n",
       "      <td>1.972317</td>\n",
       "      <td>1.424207</td>\n",
       "      <td>1.495173</td>\n",
       "      <td>1.008072</td>\n",
       "      <td>0.670201</td>\n",
       "      <td>0.287985</td>\n",
       "      <td>0.434101</td>\n",
       "      <td>2.168266</td>\n",
       "    </tr>\n",
       "  </tbody>\n",
       "</table>\n",
       "</div>"
      ],
      "text/plain": [
       "  Country name Regional indicator  Ladder score  \\\n",
       "0      Finland     Western Europe        7.8087   \n",
       "1      Denmark     Western Europe        7.6456   \n",
       "2  Switzerland     Western Europe        7.5599   \n",
       "3      Iceland     Western Europe        7.5045   \n",
       "4       Norway     Western Europe        7.4880   \n",
       "\n",
       "   Standard error of ladder score  upperwhisker  lowerwhisker  \\\n",
       "0                        0.031156      7.869766      7.747634   \n",
       "1                        0.033492      7.711245      7.579955   \n",
       "2                        0.035014      7.628528      7.491272   \n",
       "3                        0.059616      7.621347      7.387653   \n",
       "4                        0.034837      7.556281      7.419719   \n",
       "\n",
       "   Logged GDP per capita  Social support  Healthy life expectancy  \\\n",
       "0              10.639267        0.954330                71.900825   \n",
       "1              10.774001        0.955991                72.402504   \n",
       "2              10.979933        0.942847                74.102448   \n",
       "3              10.772559        0.974670                73.000000   \n",
       "4              11.087804        0.952487                73.200783   \n",
       "\n",
       "   Freedom to make life choices  Generosity  Perceptions of corruption  \\\n",
       "0                      0.949172   -0.059482                   0.195445   \n",
       "1                      0.951444    0.066202                   0.168489   \n",
       "2                      0.921337    0.105911                   0.303728   \n",
       "3                      0.948892    0.246944                   0.711710   \n",
       "4                      0.955750    0.134533                   0.263218   \n",
       "\n",
       "   Ladder score in Dystopia  Explained by: Log GDP per capita  \\\n",
       "0                  1.972317                          1.285190   \n",
       "1                  1.972317                          1.326949   \n",
       "2                  1.972317                          1.390774   \n",
       "3                  1.972317                          1.326502   \n",
       "4                  1.972317                          1.424207   \n",
       "\n",
       "   Explained by: Social support  Explained by: Healthy life expectancy  \\\n",
       "0                      1.499526                               0.961271   \n",
       "1                      1.503449                               0.979333   \n",
       "2                      1.472403                               1.040533   \n",
       "3                      1.547567                               1.000843   \n",
       "4                      1.495173                               1.008072   \n",
       "\n",
       "   Explained by: Freedom to make life choices  Explained by: Generosity  \\\n",
       "0                                    0.662317                  0.159670   \n",
       "1                                    0.665040                  0.242793   \n",
       "2                                    0.628954                  0.269056   \n",
       "3                                    0.661981                  0.362330   \n",
       "4                                    0.670201                  0.287985   \n",
       "\n",
       "   Explained by: Perceptions of corruption  Dystopia + residual  \n",
       "0                                 0.477857             2.762835  \n",
       "1                                 0.495260             2.432741  \n",
       "2                                 0.407946             2.350267  \n",
       "3                                 0.144541             2.460688  \n",
       "4                                 0.434101             2.168266  "
      ]
     },
     "execution_count": 184,
     "metadata": {},
     "output_type": "execute_result"
    }
   ],
   "source": [
    "df_2020.head()"
   ]
  },
  {
   "cell_type": "code",
   "execution_count": 185,
   "id": "c17a8b25",
   "metadata": {},
   "outputs": [
    {
     "data": {
      "text/html": [
       "<div>\n",
       "<style scoped>\n",
       "    .dataframe tbody tr th:only-of-type {\n",
       "        vertical-align: middle;\n",
       "    }\n",
       "\n",
       "    .dataframe tbody tr th {\n",
       "        vertical-align: top;\n",
       "    }\n",
       "\n",
       "    .dataframe thead th {\n",
       "        text-align: right;\n",
       "    }\n",
       "</style>\n",
       "<table border=\"1\" class=\"dataframe\">\n",
       "  <thead>\n",
       "    <tr style=\"text-align: right;\">\n",
       "      <th></th>\n",
       "      <th>Country name</th>\n",
       "      <th>Regional indicator</th>\n",
       "      <th>Ladder score</th>\n",
       "      <th>Standard error of ladder score</th>\n",
       "      <th>upperwhisker</th>\n",
       "      <th>lowerwhisker</th>\n",
       "      <th>Logged GDP per capita</th>\n",
       "      <th>Social support</th>\n",
       "      <th>Healthy life expectancy</th>\n",
       "      <th>Freedom to make life choices</th>\n",
       "      <th>Generosity</th>\n",
       "      <th>Perceptions of corruption</th>\n",
       "      <th>Ladder score in Dystopia</th>\n",
       "      <th>Explained by: Log GDP per capita</th>\n",
       "      <th>Explained by: Social support</th>\n",
       "      <th>Explained by: Healthy life expectancy</th>\n",
       "      <th>Explained by: Freedom to make life choices</th>\n",
       "      <th>Explained by: Generosity</th>\n",
       "      <th>Explained by: Perceptions of corruption</th>\n",
       "      <th>Dystopia + residual</th>\n",
       "    </tr>\n",
       "  </thead>\n",
       "  <tbody>\n",
       "  </tbody>\n",
       "</table>\n",
       "</div>"
      ],
      "text/plain": [
       "Empty DataFrame\n",
       "Columns: [Country name, Regional indicator, Ladder score, Standard error of ladder score, upperwhisker, lowerwhisker, Logged GDP per capita, Social support, Healthy life expectancy, Freedom to make life choices, Generosity, Perceptions of corruption, Ladder score in Dystopia, Explained by: Log GDP per capita, Explained by: Social support, Explained by: Healthy life expectancy, Explained by: Freedom to make life choices, Explained by: Generosity, Explained by: Perceptions of corruption, Dystopia + residual]\n",
       "Index: []"
      ]
     },
     "execution_count": 185,
     "metadata": {},
     "output_type": "execute_result"
    }
   ],
   "source": [
    "#Find duplicates\n",
    "df_2020[df_2020.duplicated()]"
   ]
  },
  {
   "cell_type": "markdown",
   "id": "136e2905",
   "metadata": {},
   "source": [
    "Drop the following columns  \n",
    "'Standard error of ladder score'    \n",
    ",'upperwhisker  \n",
    ",'lowerwhisker'   \n",
    ",'Ladder score in Dystopia'\n",
    ",'Logged GDP per capita'  \n",
    ",'Social support'  \n",
    ",'Healthy life expectancy'  \n",
    ",'Freedom to make life choices'  \n",
    ",'Generosity'    \n",
    ",'Perceptions of corruption'"
   ]
  },
  {
   "cell_type": "code",
   "execution_count": 187,
   "id": "75a27e02",
   "metadata": {},
   "outputs": [],
   "source": [
    "dropping_columns =['Standard error of ladder score'    \n",
    ",'upperwhisker'  \n",
    ",'lowerwhisker'   \n",
    ",'Ladder score in Dystopia'\n",
    ",'Logged GDP per capita'  \n",
    ",'Social support'  \n",
    ",'Healthy life expectancy'  \n",
    ",'Freedom to make life choices'  \n",
    ",'Generosity'    \n",
    ",'Perceptions of corruption']\n",
    "\n",
    "\n",
    "df_2020 = df_2020.drop(columns = dropping_columns)"
   ]
  },
  {
   "cell_type": "code",
   "execution_count": 197,
   "id": "81d67fa6",
   "metadata": {},
   "outputs": [
    {
     "name": "stdout",
     "output_type": "stream",
     "text": [
      "<class 'pandas.core.frame.DataFrame'>\n",
      "RangeIndex: 153 entries, 0 to 152\n",
      "Data columns (total 12 columns):\n",
      " #   Column                         Non-Null Count  Dtype  \n",
      "---  ------                         --------------  -----  \n",
      " 0   Country                        153 non-null    object \n",
      " 1   Region                         153 non-null    object \n",
      " 2   Happiness Score                153 non-null    float64\n",
      " 3   Economy (GDP per Capita)       153 non-null    float64\n",
      " 4   Social Support                 153 non-null    float64\n",
      " 5   Health (Life Expectancy)       153 non-null    float64\n",
      " 6   Freedom                        153 non-null    float64\n",
      " 7   Generosity                     153 non-null    float64\n",
      " 8   Trust (Government Corruption)  153 non-null    float64\n",
      " 9   Dystopia Residual              153 non-null    float64\n",
      " 10  Happiness Rank                 153 non-null    int64  \n",
      " 11  Year                           153 non-null    int64  \n",
      "dtypes: float64(8), int64(2), object(2)\n",
      "memory usage: 14.5+ KB\n"
     ]
    }
   ],
   "source": [
    "df_2020.info()"
   ]
  },
  {
   "cell_type": "code",
   "execution_count": 191,
   "id": "cb4075e6",
   "metadata": {},
   "outputs": [],
   "source": [
    "#Renaming columns \n",
    "\n",
    "df_2020.rename(columns = {'Country name' : 'Country'}, inplace = True)\n",
    "df_2020.rename(columns = {'Regional indicator' : 'Region'}, inplace = True)\n",
    "df_2020.rename(columns = {'Ladder score' : 'Happiness Score'}, inplace = True)\n",
    "df_2020.rename(columns = {'Explained by: Healthy life expectancy' : 'Health (Life Expectancy)'}, inplace = True)\n",
    "df_2020.rename(columns = {'Explained by: Perceptions of corruption' : 'Trust (Government Corruption)'}, inplace = True)\n",
    "df_2020.rename(columns = {'Explained by: Log GDP per capita' : 'Economy (GDP per Capita)'}, inplace = True)\n",
    "df_2020.rename(columns = {'Dystopia + residual' : 'Dystopia Residual'}, inplace = True)\n",
    "df_2020.rename(columns = {'Explained by: Freedom to make life choices' : 'Freedom'}, inplace = True)\n",
    "df_2020.rename(columns = {'Explained by: Social support' : 'Social Support'}, inplace = True)\n",
    "df_2020.rename(columns = {'Explained by: Generosity' : 'Generosity'}, inplace = True)\n",
    "\n",
    "\n"
   ]
  },
  {
   "cell_type": "code",
   "execution_count": 193,
   "id": "beabff7f",
   "metadata": {},
   "outputs": [],
   "source": [
    "#derive a rank column based on 'Happiness Score'\n",
    "\n",
    "df_2020['Happiness Rank'] = df_2020['Happiness Score'].rank(ascending=False, method='min')"
   ]
  },
  {
   "cell_type": "code",
   "execution_count": 194,
   "id": "a6878ddf",
   "metadata": {},
   "outputs": [],
   "source": [
    "#turn 'Happiness Rank' from float to integer type.\n",
    "\n",
    "df_2020['Happiness Rank'] = df_2020['Happiness Rank'].astype(int)"
   ]
  },
  {
   "cell_type": "code",
   "execution_count": 196,
   "id": "70127246",
   "metadata": {},
   "outputs": [],
   "source": [
    "#derive year column and fill with 2020\n",
    "\n",
    "df_2020['Year'] = 2020 "
   ]
  },
  {
   "cell_type": "code",
   "execution_count": 211,
   "id": "2be731f3",
   "metadata": {},
   "outputs": [
    {
     "data": {
      "text/html": [
       "<div>\n",
       "<style scoped>\n",
       "    .dataframe tbody tr th:only-of-type {\n",
       "        vertical-align: middle;\n",
       "    }\n",
       "\n",
       "    .dataframe tbody tr th {\n",
       "        vertical-align: top;\n",
       "    }\n",
       "\n",
       "    .dataframe thead th {\n",
       "        text-align: right;\n",
       "    }\n",
       "</style>\n",
       "<table border=\"1\" class=\"dataframe\">\n",
       "  <thead>\n",
       "    <tr style=\"text-align: right;\">\n",
       "      <th></th>\n",
       "      <th>Happiness Score</th>\n",
       "      <th>Economy (GDP per Capita)</th>\n",
       "      <th>Social Support</th>\n",
       "      <th>Health (Life Expectancy)</th>\n",
       "      <th>Freedom</th>\n",
       "      <th>Generosity</th>\n",
       "      <th>Trust (Government Corruption)</th>\n",
       "      <th>Dystopia Residual</th>\n",
       "      <th>Happiness Rank</th>\n",
       "      <th>Year</th>\n",
       "    </tr>\n",
       "  </thead>\n",
       "  <tbody>\n",
       "    <tr>\n",
       "      <th>count</th>\n",
       "      <td>153.00000</td>\n",
       "      <td>153.000000</td>\n",
       "      <td>153.000000</td>\n",
       "      <td>153.000000</td>\n",
       "      <td>153.000000</td>\n",
       "      <td>153.000000</td>\n",
       "      <td>153.000000</td>\n",
       "      <td>153.000000</td>\n",
       "      <td>153.000000</td>\n",
       "      <td>153.0</td>\n",
       "    </tr>\n",
       "    <tr>\n",
       "      <th>mean</th>\n",
       "      <td>5.47324</td>\n",
       "      <td>0.868771</td>\n",
       "      <td>1.155607</td>\n",
       "      <td>0.692869</td>\n",
       "      <td>0.463583</td>\n",
       "      <td>0.189375</td>\n",
       "      <td>0.130718</td>\n",
       "      <td>1.972317</td>\n",
       "      <td>77.000000</td>\n",
       "      <td>2020.0</td>\n",
       "    </tr>\n",
       "    <tr>\n",
       "      <th>std</th>\n",
       "      <td>1.11227</td>\n",
       "      <td>0.372416</td>\n",
       "      <td>0.286866</td>\n",
       "      <td>0.254094</td>\n",
       "      <td>0.141172</td>\n",
       "      <td>0.100401</td>\n",
       "      <td>0.113097</td>\n",
       "      <td>0.563638</td>\n",
       "      <td>44.311398</td>\n",
       "      <td>0.0</td>\n",
       "    </tr>\n",
       "    <tr>\n",
       "      <th>min</th>\n",
       "      <td>2.56690</td>\n",
       "      <td>0.000000</td>\n",
       "      <td>0.000000</td>\n",
       "      <td>0.000000</td>\n",
       "      <td>0.000000</td>\n",
       "      <td>0.000000</td>\n",
       "      <td>0.000000</td>\n",
       "      <td>0.257241</td>\n",
       "      <td>1.000000</td>\n",
       "      <td>2020.0</td>\n",
       "    </tr>\n",
       "    <tr>\n",
       "      <th>25%</th>\n",
       "      <td>4.72410</td>\n",
       "      <td>0.575862</td>\n",
       "      <td>0.986718</td>\n",
       "      <td>0.495443</td>\n",
       "      <td>0.381457</td>\n",
       "      <td>0.115006</td>\n",
       "      <td>0.055805</td>\n",
       "      <td>1.629928</td>\n",
       "      <td>39.000000</td>\n",
       "      <td>2020.0</td>\n",
       "    </tr>\n",
       "    <tr>\n",
       "      <th>50%</th>\n",
       "      <td>5.51500</td>\n",
       "      <td>0.918549</td>\n",
       "      <td>1.203987</td>\n",
       "      <td>0.759818</td>\n",
       "      <td>0.483293</td>\n",
       "      <td>0.176745</td>\n",
       "      <td>0.098435</td>\n",
       "      <td>2.046272</td>\n",
       "      <td>77.000000</td>\n",
       "      <td>2020.0</td>\n",
       "    </tr>\n",
       "    <tr>\n",
       "      <th>75%</th>\n",
       "      <td>6.22850</td>\n",
       "      <td>1.169229</td>\n",
       "      <td>1.387139</td>\n",
       "      <td>0.867249</td>\n",
       "      <td>0.576665</td>\n",
       "      <td>0.255510</td>\n",
       "      <td>0.163064</td>\n",
       "      <td>2.350267</td>\n",
       "      <td>115.000000</td>\n",
       "      <td>2020.0</td>\n",
       "    </tr>\n",
       "    <tr>\n",
       "      <th>max</th>\n",
       "      <td>7.80870</td>\n",
       "      <td>1.536676</td>\n",
       "      <td>1.547567</td>\n",
       "      <td>1.137814</td>\n",
       "      <td>0.693270</td>\n",
       "      <td>0.569814</td>\n",
       "      <td>0.533162</td>\n",
       "      <td>3.440810</td>\n",
       "      <td>153.000000</td>\n",
       "      <td>2020.0</td>\n",
       "    </tr>\n",
       "  </tbody>\n",
       "</table>\n",
       "</div>"
      ],
      "text/plain": [
       "       Happiness Score  Economy (GDP per Capita)  Social Support  \\\n",
       "count        153.00000                153.000000      153.000000   \n",
       "mean           5.47324                  0.868771        1.155607   \n",
       "std            1.11227                  0.372416        0.286866   \n",
       "min            2.56690                  0.000000        0.000000   \n",
       "25%            4.72410                  0.575862        0.986718   \n",
       "50%            5.51500                  0.918549        1.203987   \n",
       "75%            6.22850                  1.169229        1.387139   \n",
       "max            7.80870                  1.536676        1.547567   \n",
       "\n",
       "       Health (Life Expectancy)     Freedom  Generosity  \\\n",
       "count                153.000000  153.000000  153.000000   \n",
       "mean                   0.692869    0.463583    0.189375   \n",
       "std                    0.254094    0.141172    0.100401   \n",
       "min                    0.000000    0.000000    0.000000   \n",
       "25%                    0.495443    0.381457    0.115006   \n",
       "50%                    0.759818    0.483293    0.176745   \n",
       "75%                    0.867249    0.576665    0.255510   \n",
       "max                    1.137814    0.693270    0.569814   \n",
       "\n",
       "       Trust (Government Corruption)  Dystopia Residual  Happiness Rank  \\\n",
       "count                     153.000000         153.000000      153.000000   \n",
       "mean                        0.130718           1.972317       77.000000   \n",
       "std                         0.113097           0.563638       44.311398   \n",
       "min                         0.000000           0.257241        1.000000   \n",
       "25%                         0.055805           1.629928       39.000000   \n",
       "50%                         0.098435           2.046272       77.000000   \n",
       "75%                         0.163064           2.350267      115.000000   \n",
       "max                         0.533162           3.440810      153.000000   \n",
       "\n",
       "         Year  \n",
       "count   153.0  \n",
       "mean   2020.0  \n",
       "std       0.0  \n",
       "min    2020.0  \n",
       "25%    2020.0  \n",
       "50%    2020.0  \n",
       "75%    2020.0  \n",
       "max    2020.0  "
      ]
     },
     "execution_count": 211,
     "metadata": {},
     "output_type": "execute_result"
    }
   ],
   "source": [
    "#EDA \n",
    "df_2020.describe()"
   ]
  },
  {
   "cell_type": "markdown",
   "id": "5bd36a68",
   "metadata": {},
   "source": [
    "## Wrangle 2021 dataset "
   ]
  },
  {
   "cell_type": "code",
   "execution_count": 198,
   "id": "f5d1cfb1",
   "metadata": {},
   "outputs": [
    {
     "data": {
      "text/plain": [
       "Country name                                  0\n",
       "Regional indicator                            0\n",
       "Ladder score                                  0\n",
       "Standard error of ladder score                0\n",
       "upperwhisker                                  0\n",
       "lowerwhisker                                  0\n",
       "Logged GDP per capita                         0\n",
       "Social support                                0\n",
       "Healthy life expectancy                       0\n",
       "Freedom to make life choices                  0\n",
       "Generosity                                    0\n",
       "Perceptions of corruption                     0\n",
       "Ladder score in Dystopia                      0\n",
       "Explained by: Log GDP per capita              0\n",
       "Explained by: Social support                  0\n",
       "Explained by: Healthy life expectancy         0\n",
       "Explained by: Freedom to make life choices    0\n",
       "Explained by: Generosity                      0\n",
       "Explained by: Perceptions of corruption       0\n",
       "Dystopia + residual                           0\n",
       "dtype: int64"
      ]
     },
     "execution_count": 198,
     "metadata": {},
     "output_type": "execute_result"
    }
   ],
   "source": [
    "#Find missing values\n",
    "missing_values = df_2021.isna() \n",
    "missing_values.sum()"
   ]
  },
  {
   "cell_type": "code",
   "execution_count": 199,
   "id": "ef03b3a1",
   "metadata": {},
   "outputs": [
    {
     "data": {
      "text/html": [
       "<div>\n",
       "<style scoped>\n",
       "    .dataframe tbody tr th:only-of-type {\n",
       "        vertical-align: middle;\n",
       "    }\n",
       "\n",
       "    .dataframe tbody tr th {\n",
       "        vertical-align: top;\n",
       "    }\n",
       "\n",
       "    .dataframe thead th {\n",
       "        text-align: right;\n",
       "    }\n",
       "</style>\n",
       "<table border=\"1\" class=\"dataframe\">\n",
       "  <thead>\n",
       "    <tr style=\"text-align: right;\">\n",
       "      <th></th>\n",
       "      <th>Country name</th>\n",
       "      <th>Regional indicator</th>\n",
       "      <th>Ladder score</th>\n",
       "      <th>Standard error of ladder score</th>\n",
       "      <th>upperwhisker</th>\n",
       "      <th>lowerwhisker</th>\n",
       "      <th>Logged GDP per capita</th>\n",
       "      <th>Social support</th>\n",
       "      <th>Healthy life expectancy</th>\n",
       "      <th>Freedom to make life choices</th>\n",
       "      <th>Generosity</th>\n",
       "      <th>Perceptions of corruption</th>\n",
       "      <th>Ladder score in Dystopia</th>\n",
       "      <th>Explained by: Log GDP per capita</th>\n",
       "      <th>Explained by: Social support</th>\n",
       "      <th>Explained by: Healthy life expectancy</th>\n",
       "      <th>Explained by: Freedom to make life choices</th>\n",
       "      <th>Explained by: Generosity</th>\n",
       "      <th>Explained by: Perceptions of corruption</th>\n",
       "      <th>Dystopia + residual</th>\n",
       "    </tr>\n",
       "  </thead>\n",
       "  <tbody>\n",
       "  </tbody>\n",
       "</table>\n",
       "</div>"
      ],
      "text/plain": [
       "Empty DataFrame\n",
       "Columns: [Country name, Regional indicator, Ladder score, Standard error of ladder score, upperwhisker, lowerwhisker, Logged GDP per capita, Social support, Healthy life expectancy, Freedom to make life choices, Generosity, Perceptions of corruption, Ladder score in Dystopia, Explained by: Log GDP per capita, Explained by: Social support, Explained by: Healthy life expectancy, Explained by: Freedom to make life choices, Explained by: Generosity, Explained by: Perceptions of corruption, Dystopia + residual]\n",
       "Index: []"
      ]
     },
     "execution_count": 199,
     "metadata": {},
     "output_type": "execute_result"
    }
   ],
   "source": [
    "#Find duplicates\n",
    "df_2021[df_2021.duplicated()]"
   ]
  },
  {
   "cell_type": "markdown",
   "id": "aeca1378",
   "metadata": {},
   "source": [
    "Drop the following columns  \n",
    "'Standard error of ladder score'    \n",
    ",'upperwhisker  \n",
    ",'lowerwhisker'   \n",
    ",'Ladder score in Dystopia'\n",
    ",'Logged GDP per capita'  \n",
    ",'Social support'  \n",
    ",'Healthy life expectancy'  \n",
    ",'Freedom to make life choices'  \n",
    ",'Generosity'    \n",
    ",'Perceptions of corruption'"
   ]
  },
  {
   "cell_type": "code",
   "execution_count": 200,
   "id": "bd5ddf5f",
   "metadata": {},
   "outputs": [],
   "source": [
    "dropping_columns =['Standard error of ladder score'    \n",
    ",'upperwhisker'  \n",
    ",'lowerwhisker'   \n",
    ",'Ladder score in Dystopia'\n",
    ",'Logged GDP per capita'  \n",
    ",'Social support'  \n",
    ",'Healthy life expectancy'  \n",
    ",'Freedom to make life choices'  \n",
    ",'Generosity'    \n",
    ",'Perceptions of corruption']\n",
    "\n",
    "\n",
    "df_2021 = df_2021.drop(columns = dropping_columns)"
   ]
  },
  {
   "cell_type": "code",
   "execution_count": 201,
   "id": "ee8b2f97",
   "metadata": {},
   "outputs": [
    {
     "name": "stdout",
     "output_type": "stream",
     "text": [
      "<class 'pandas.core.frame.DataFrame'>\n",
      "RangeIndex: 149 entries, 0 to 148\n",
      "Data columns (total 10 columns):\n",
      " #   Column                                      Non-Null Count  Dtype  \n",
      "---  ------                                      --------------  -----  \n",
      " 0   Country name                                149 non-null    object \n",
      " 1   Regional indicator                          149 non-null    object \n",
      " 2   Ladder score                                149 non-null    float64\n",
      " 3   Explained by: Log GDP per capita            149 non-null    float64\n",
      " 4   Explained by: Social support                149 non-null    float64\n",
      " 5   Explained by: Healthy life expectancy       149 non-null    float64\n",
      " 6   Explained by: Freedom to make life choices  149 non-null    float64\n",
      " 7   Explained by: Generosity                    149 non-null    float64\n",
      " 8   Explained by: Perceptions of corruption     149 non-null    float64\n",
      " 9   Dystopia + residual                         149 non-null    float64\n",
      "dtypes: float64(8), object(2)\n",
      "memory usage: 11.8+ KB\n"
     ]
    }
   ],
   "source": [
    "df_2021.info()"
   ]
  },
  {
   "cell_type": "code",
   "execution_count": 202,
   "id": "2588b084",
   "metadata": {},
   "outputs": [],
   "source": [
    "#Renaming columns \n",
    "\n",
    "df_2021.rename(columns = {'Country name' : 'Country'}, inplace = True)\n",
    "df_2021.rename(columns = {'Regional indicator' : 'Region'}, inplace = True)\n",
    "df_2021.rename(columns = {'Ladder score' : 'Happiness Score'}, inplace = True)\n",
    "df_2021.rename(columns = {'Explained by: Healthy life expectancy' : 'Health (Life Expectancy)'}, inplace = True)\n",
    "df_2021.rename(columns = {'Explained by: Perceptions of corruption' : 'Trust (Government Corruption)'}, inplace = True)\n",
    "df_2021.rename(columns = {'Explained by: Log GDP per capita' : 'Economy (GDP per Capita)'}, inplace = True)\n",
    "df_2021.rename(columns = {'Dystopia + residual' : 'Dystopia Residual'}, inplace = True)\n",
    "df_2021.rename(columns = {'Explained by: Freedom to make life choices' : 'Freedom'}, inplace = True)\n",
    "df_2021.rename(columns = {'Explained by: Social support' : 'Social Support'}, inplace = True)\n",
    "df_2021.rename(columns = {'Explained by: Generosity' : 'Generosity'}, inplace = True)"
   ]
  },
  {
   "cell_type": "code",
   "execution_count": 203,
   "id": "0d251876",
   "metadata": {},
   "outputs": [],
   "source": [
    "#derive a rank column based on 'Happiness Score'\n",
    "\n",
    "df_2021['Happiness Rank'] = df_2021['Happiness Score'].rank(ascending=False, method='min')\n",
    "\n",
    "#turn 'Happiness Rank' from float to integer type.\n",
    "\n",
    "df_2021['Happiness Rank'] = df_2021['Happiness Rank'].astype(int)"
   ]
  },
  {
   "cell_type": "code",
   "execution_count": 204,
   "id": "54aeb5e3",
   "metadata": {},
   "outputs": [],
   "source": [
    "#derive year column and fill with 2021\n",
    "\n",
    "df_2021['Year'] = 2021"
   ]
  },
  {
   "cell_type": "code",
   "execution_count": 212,
   "id": "19dc35c7",
   "metadata": {},
   "outputs": [
    {
     "data": {
      "text/html": [
       "<div>\n",
       "<style scoped>\n",
       "    .dataframe tbody tr th:only-of-type {\n",
       "        vertical-align: middle;\n",
       "    }\n",
       "\n",
       "    .dataframe tbody tr th {\n",
       "        vertical-align: top;\n",
       "    }\n",
       "\n",
       "    .dataframe thead th {\n",
       "        text-align: right;\n",
       "    }\n",
       "</style>\n",
       "<table border=\"1\" class=\"dataframe\">\n",
       "  <thead>\n",
       "    <tr style=\"text-align: right;\">\n",
       "      <th></th>\n",
       "      <th>Happiness Score</th>\n",
       "      <th>Economy (GDP per Capita)</th>\n",
       "      <th>Social Support</th>\n",
       "      <th>Health (Life Expectancy)</th>\n",
       "      <th>Freedom</th>\n",
       "      <th>Generosity</th>\n",
       "      <th>Trust (Government Corruption)</th>\n",
       "      <th>Dystopia Residual</th>\n",
       "      <th>Happiness Rank</th>\n",
       "      <th>Year</th>\n",
       "    </tr>\n",
       "  </thead>\n",
       "  <tbody>\n",
       "    <tr>\n",
       "      <th>count</th>\n",
       "      <td>149.000000</td>\n",
       "      <td>149.000000</td>\n",
       "      <td>149.000000</td>\n",
       "      <td>149.000000</td>\n",
       "      <td>149.000000</td>\n",
       "      <td>149.000000</td>\n",
       "      <td>149.000000</td>\n",
       "      <td>149.000000</td>\n",
       "      <td>149.000000</td>\n",
       "      <td>149.0</td>\n",
       "    </tr>\n",
       "    <tr>\n",
       "      <th>mean</th>\n",
       "      <td>5.532839</td>\n",
       "      <td>0.977161</td>\n",
       "      <td>0.793315</td>\n",
       "      <td>0.520161</td>\n",
       "      <td>0.498711</td>\n",
       "      <td>0.178047</td>\n",
       "      <td>0.135141</td>\n",
       "      <td>2.430329</td>\n",
       "      <td>74.986577</td>\n",
       "      <td>2021.0</td>\n",
       "    </tr>\n",
       "    <tr>\n",
       "      <th>std</th>\n",
       "      <td>1.073924</td>\n",
       "      <td>0.404740</td>\n",
       "      <td>0.258871</td>\n",
       "      <td>0.213019</td>\n",
       "      <td>0.137888</td>\n",
       "      <td>0.098270</td>\n",
       "      <td>0.114361</td>\n",
       "      <td>0.537645</td>\n",
       "      <td>43.159194</td>\n",
       "      <td>0.0</td>\n",
       "    </tr>\n",
       "    <tr>\n",
       "      <th>min</th>\n",
       "      <td>2.523000</td>\n",
       "      <td>0.000000</td>\n",
       "      <td>0.000000</td>\n",
       "      <td>0.000000</td>\n",
       "      <td>0.000000</td>\n",
       "      <td>0.000000</td>\n",
       "      <td>0.000000</td>\n",
       "      <td>0.648000</td>\n",
       "      <td>1.000000</td>\n",
       "      <td>2021.0</td>\n",
       "    </tr>\n",
       "    <tr>\n",
       "      <th>25%</th>\n",
       "      <td>4.852000</td>\n",
       "      <td>0.666000</td>\n",
       "      <td>0.647000</td>\n",
       "      <td>0.357000</td>\n",
       "      <td>0.409000</td>\n",
       "      <td>0.105000</td>\n",
       "      <td>0.060000</td>\n",
       "      <td>2.138000</td>\n",
       "      <td>38.000000</td>\n",
       "      <td>2021.0</td>\n",
       "    </tr>\n",
       "    <tr>\n",
       "      <th>50%</th>\n",
       "      <td>5.534000</td>\n",
       "      <td>1.025000</td>\n",
       "      <td>0.832000</td>\n",
       "      <td>0.571000</td>\n",
       "      <td>0.514000</td>\n",
       "      <td>0.164000</td>\n",
       "      <td>0.101000</td>\n",
       "      <td>2.509000</td>\n",
       "      <td>75.000000</td>\n",
       "      <td>2021.0</td>\n",
       "    </tr>\n",
       "    <tr>\n",
       "      <th>75%</th>\n",
       "      <td>6.255000</td>\n",
       "      <td>1.323000</td>\n",
       "      <td>0.996000</td>\n",
       "      <td>0.665000</td>\n",
       "      <td>0.603000</td>\n",
       "      <td>0.239000</td>\n",
       "      <td>0.174000</td>\n",
       "      <td>2.794000</td>\n",
       "      <td>112.000000</td>\n",
       "      <td>2021.0</td>\n",
       "    </tr>\n",
       "    <tr>\n",
       "      <th>max</th>\n",
       "      <td>7.842000</td>\n",
       "      <td>1.751000</td>\n",
       "      <td>1.172000</td>\n",
       "      <td>0.897000</td>\n",
       "      <td>0.716000</td>\n",
       "      <td>0.541000</td>\n",
       "      <td>0.547000</td>\n",
       "      <td>3.482000</td>\n",
       "      <td>149.000000</td>\n",
       "      <td>2021.0</td>\n",
       "    </tr>\n",
       "  </tbody>\n",
       "</table>\n",
       "</div>"
      ],
      "text/plain": [
       "       Happiness Score  Economy (GDP per Capita)  Social Support  \\\n",
       "count       149.000000                149.000000      149.000000   \n",
       "mean          5.532839                  0.977161        0.793315   \n",
       "std           1.073924                  0.404740        0.258871   \n",
       "min           2.523000                  0.000000        0.000000   \n",
       "25%           4.852000                  0.666000        0.647000   \n",
       "50%           5.534000                  1.025000        0.832000   \n",
       "75%           6.255000                  1.323000        0.996000   \n",
       "max           7.842000                  1.751000        1.172000   \n",
       "\n",
       "       Health (Life Expectancy)     Freedom  Generosity  \\\n",
       "count                149.000000  149.000000  149.000000   \n",
       "mean                   0.520161    0.498711    0.178047   \n",
       "std                    0.213019    0.137888    0.098270   \n",
       "min                    0.000000    0.000000    0.000000   \n",
       "25%                    0.357000    0.409000    0.105000   \n",
       "50%                    0.571000    0.514000    0.164000   \n",
       "75%                    0.665000    0.603000    0.239000   \n",
       "max                    0.897000    0.716000    0.541000   \n",
       "\n",
       "       Trust (Government Corruption)  Dystopia Residual  Happiness Rank  \\\n",
       "count                     149.000000         149.000000      149.000000   \n",
       "mean                        0.135141           2.430329       74.986577   \n",
       "std                         0.114361           0.537645       43.159194   \n",
       "min                         0.000000           0.648000        1.000000   \n",
       "25%                         0.060000           2.138000       38.000000   \n",
       "50%                         0.101000           2.509000       75.000000   \n",
       "75%                         0.174000           2.794000      112.000000   \n",
       "max                         0.547000           3.482000      149.000000   \n",
       "\n",
       "         Year  \n",
       "count   149.0  \n",
       "mean   2021.0  \n",
       "std       0.0  \n",
       "min    2021.0  \n",
       "25%    2021.0  \n",
       "50%    2021.0  \n",
       "75%    2021.0  \n",
       "max    2021.0  "
      ]
     },
     "execution_count": 212,
     "metadata": {},
     "output_type": "execute_result"
    }
   ],
   "source": [
    "#EDA \n",
    "df_2021.describe()"
   ]
  },
  {
   "cell_type": "markdown",
   "id": "183e1797",
   "metadata": {},
   "source": [
    "## Wrangle 2022 dataset"
   ]
  },
  {
   "cell_type": "code",
   "execution_count": 213,
   "id": "b987d3ac",
   "metadata": {},
   "outputs": [
    {
     "name": "stdout",
     "output_type": "stream",
     "text": [
      "<class 'pandas.core.frame.DataFrame'>\n",
      "RangeIndex: 147 entries, 0 to 146\n",
      "Data columns (total 10 columns):\n",
      " #   Column                                      Non-Null Count  Dtype \n",
      "---  ------                                      --------------  ----- \n",
      " 0   RANK                                        147 non-null    int64 \n",
      " 1   Country                                     147 non-null    object\n",
      " 2   Happiness score                             146 non-null    object\n",
      " 3   Dystopia (1.83) + residual                  146 non-null    object\n",
      " 4   Explained by: GDP per capita                146 non-null    object\n",
      " 5   Explained by: Social support                146 non-null    object\n",
      " 6   Explained by: Healthy life expectancy       146 non-null    object\n",
      " 7   Explained by: Freedom to make life choices  146 non-null    object\n",
      " 8   Explained by: Generosity                    146 non-null    object\n",
      " 9   Explained by: Perceptions of corruption     146 non-null    object\n",
      "dtypes: int64(1), object(9)\n",
      "memory usage: 11.6+ KB\n"
     ]
    }
   ],
   "source": [
    "df_2022.info()"
   ]
  },
  {
   "cell_type": "code",
   "execution_count": 214,
   "id": "6087f4f3",
   "metadata": {},
   "outputs": [
    {
     "data": {
      "text/plain": [
       "RANK                                          0\n",
       "Country                                       0\n",
       "Happiness score                               1\n",
       "Dystopia (1.83) + residual                    1\n",
       "Explained by: GDP per capita                  1\n",
       "Explained by: Social support                  1\n",
       "Explained by: Healthy life expectancy         1\n",
       "Explained by: Freedom to make life choices    1\n",
       "Explained by: Generosity                      1\n",
       "Explained by: Perceptions of corruption       1\n",
       "dtype: int64"
      ]
     },
     "execution_count": 214,
     "metadata": {},
     "output_type": "execute_result"
    }
   ],
   "source": [
    "#Find missing values\n",
    "missing_values = df_2022.isna() \n",
    "missing_values.sum()"
   ]
  },
  {
   "cell_type": "code",
   "execution_count": 215,
   "id": "6db3210a",
   "metadata": {},
   "outputs": [
    {
     "data": {
      "text/html": [
       "<div>\n",
       "<style scoped>\n",
       "    .dataframe tbody tr th:only-of-type {\n",
       "        vertical-align: middle;\n",
       "    }\n",
       "\n",
       "    .dataframe tbody tr th {\n",
       "        vertical-align: top;\n",
       "    }\n",
       "\n",
       "    .dataframe thead th {\n",
       "        text-align: right;\n",
       "    }\n",
       "</style>\n",
       "<table border=\"1\" class=\"dataframe\">\n",
       "  <thead>\n",
       "    <tr style=\"text-align: right;\">\n",
       "      <th></th>\n",
       "      <th>RANK</th>\n",
       "      <th>Country</th>\n",
       "      <th>Happiness score</th>\n",
       "      <th>Dystopia (1.83) + residual</th>\n",
       "      <th>Explained by: GDP per capita</th>\n",
       "      <th>Explained by: Social support</th>\n",
       "      <th>Explained by: Healthy life expectancy</th>\n",
       "      <th>Explained by: Freedom to make life choices</th>\n",
       "      <th>Explained by: Generosity</th>\n",
       "      <th>Explained by: Perceptions of corruption</th>\n",
       "    </tr>\n",
       "  </thead>\n",
       "  <tbody>\n",
       "  </tbody>\n",
       "</table>\n",
       "</div>"
      ],
      "text/plain": [
       "Empty DataFrame\n",
       "Columns: [RANK, Country, Happiness score, Dystopia (1.83) + residual, Explained by: GDP per capita, Explained by: Social support, Explained by: Healthy life expectancy, Explained by: Freedom to make life choices, Explained by: Generosity, Explained by: Perceptions of corruption]\n",
       "Index: []"
      ]
     },
     "execution_count": 215,
     "metadata": {},
     "output_type": "execute_result"
    }
   ],
   "source": [
    "#Find duplicates\n",
    "df_2022[df_2022.duplicated()]"
   ]
  },
  {
   "cell_type": "code",
   "execution_count": 221,
   "id": "1c37a965",
   "metadata": {},
   "outputs": [
    {
     "name": "stdout",
     "output_type": "stream",
     "text": [
      "<class 'pandas.core.frame.DataFrame'>\n",
      "RangeIndex: 147 entries, 0 to 146\n",
      "Data columns (total 10 columns):\n",
      " #   Column                         Non-Null Count  Dtype \n",
      "---  ------                         --------------  ----- \n",
      " 0   Happiness Rank                 147 non-null    int64 \n",
      " 1   Country                        147 non-null    object\n",
      " 2   Happiness Score                146 non-null    object\n",
      " 3   Dystopia Residual              146 non-null    object\n",
      " 4   Economy (GDP per Capita)       146 non-null    object\n",
      " 5   Social Support                 146 non-null    object\n",
      " 6   Health (Life Expectancy)       146 non-null    object\n",
      " 7   Freedom                        146 non-null    object\n",
      " 8   Generosity                     146 non-null    object\n",
      " 9   Trust (Government Corruption)  146 non-null    object\n",
      "dtypes: int64(1), object(9)\n",
      "memory usage: 11.6+ KB\n"
     ]
    }
   ],
   "source": [
    "df_2022.info()"
   ]
  },
  {
   "cell_type": "code",
   "execution_count": 220,
   "id": "7262512a",
   "metadata": {},
   "outputs": [],
   "source": [
    "#Rename columns \n",
    "\n",
    "df_2022.rename(columns = {'Happiness score' : 'Happiness Score'}, inplace = True)\n",
    "df_2022.rename(columns = {'RANK' : 'Happiness Rank'}, inplace = True)\n",
    "df_2022.rename(columns = {'Explained by: Healthy life expectancy' : 'Health (Life Expectancy)'}, inplace = True)\n",
    "df_2022.rename(columns = {'Explained by: Perceptions of corruption' : 'Trust (Government Corruption)'}, inplace = True)\n",
    "df_2022.rename(columns = {'Explained by: GDP per capita' : 'Economy (GDP per Capita)'}, inplace = True)\n",
    "df_2022.rename(columns = {'Dystopia (1.83) + residual' : 'Dystopia Residual'}, inplace = True)\n",
    "df_2022.rename(columns = {'Explained by: Freedom to make life choices' : 'Freedom'}, inplace = True)\n",
    "df_2022.rename(columns = {'Explained by: Social support' : 'Social Support'}, inplace = True)\n",
    "df_2022.rename(columns = {'Explained by: Generosity' : 'Generosity'}, inplace = True)"
   ]
  },
  {
   "cell_type": "code",
   "execution_count": 222,
   "id": "b7485746",
   "metadata": {},
   "outputs": [
    {
     "data": {
      "text/plain": [
       "Sub-Saharan Africa                    36\n",
       "Western Europe                        21\n",
       "Latin America and Caribbean           20\n",
       "Middle East and North Africa          17\n",
       "Central and Eastern Europe            17\n",
       "Commonwealth of Independent States    12\n",
       "Southeast Asia                         9\n",
       "South Asia                             7\n",
       "East Asia                              6\n",
       "North America and ANZ                  4\n",
       "Name: Region, dtype: int64"
      ]
     },
     "execution_count": 222,
     "metadata": {},
     "output_type": "execute_result"
    }
   ],
   "source": [
    "#derive region from 2021 dataset \n",
    "df_2021['Region'].value_counts()"
   ]
  },
  {
   "cell_type": "code",
   "execution_count": 223,
   "id": "af71e1dd",
   "metadata": {},
   "outputs": [],
   "source": [
    "#put the countries in list\n",
    "\n",
    "sub_saharan_africa_list = df_2021.loc[df_2021['Region']== 'Sub-Saharan Africa']['Country'].unique().tolist()\n",
    "western_europe_list = df_2021.loc[df_2021['Region']== 'Western Europe']['Country'].unique().tolist()\n",
    "latin_america_and_caribbean_list = df_2021.loc[df_2021['Region']== 'Latin America and Caribbean']['Country'].unique().tolist()\n",
    "central_and_eastern_europe_list = df_2021.loc[df_2021['Region']== 'Central and Eastern Europe']['Country'].unique().tolist()\n",
    "middle_east_and_northern_africa_list = df_2021.loc[df_2021['Region']== 'Middle East and Northern Africa']['Country'].unique().tolist()\n",
    "southeastern_asia_list = df_2021.loc[df_2021['Region']== 'Southeast Asia']['Country'].unique().tolist()\n",
    "southern_asia_list = df_2021.loc[df_2021['Region']== 'South Asia']['Country'].unique().tolist()\n",
    "eastern_asia_list = df_2021.loc[df_2021['Region']== 'East Asia']['Country'].unique().tolist()\n",
    "north_america_list = df_2021.loc[df_2021['Region']== 'North America and ANZ']['Country'].unique().tolist()\n",
    "commonwealth_list = df_2021.loc[df_2021['Region']== 'Commonwealth of Independent States']['Country'].unique().tolist()"
   ]
  },
  {
   "cell_type": "code",
   "execution_count": 224,
   "id": "2a6275dd",
   "metadata": {},
   "outputs": [],
   "source": [
    "#derive region from region lists \n",
    "df_2022.loc[df_2022['Country'].isin(sub_saharan_africa_list), 'Region'] = 'Sub-Saharan Africa'\n",
    "df_2022.loc[df_2022['Country'].isin(western_europe_list), 'Region'] = 'Western Europe'\n",
    "df_2022.loc[df_2022['Country'].isin(latin_america_and_caribbean_list), 'Region'] = 'Latin America and Caribbean'\n",
    "df_2022.loc[df_2022['Country'].isin(central_and_eastern_europe_list), 'Region'] = 'Central and Eastern Europe'\n",
    "df_2022.loc[df_2022['Country'].isin(middle_east_and_northern_africa_list), 'Region'] = 'Middle East and Northern Africa'\n",
    "df_2022.loc[df_2022['Country'].isin(southeastern_asia_list), 'Region'] = 'Southeastern Asia'\n",
    "df_2022.loc[df_2022['Country'].isin(southern_asia_list), 'Region'] = 'Southern Asia'\n",
    "df_2022.loc[df_2022['Country'].isin(eastern_asia_list), 'Region'] = 'Eastern Asia'\n",
    "df_2022.loc[df_2022['Country'].isin(north_america_list), 'Region'] = 'North America'\n",
    "df_2022.loc[df_2022['Country'].isin(commonwealth_list), 'Region'] = 'Commonwealth of Independent States'\n"
   ]
  },
  {
   "cell_type": "code",
   "execution_count": 225,
   "id": "ef4fc9a9",
   "metadata": {},
   "outputs": [
    {
     "data": {
      "text/html": [
       "<div>\n",
       "<style scoped>\n",
       "    .dataframe tbody tr th:only-of-type {\n",
       "        vertical-align: middle;\n",
       "    }\n",
       "\n",
       "    .dataframe tbody tr th {\n",
       "        vertical-align: top;\n",
       "    }\n",
       "\n",
       "    .dataframe thead th {\n",
       "        text-align: right;\n",
       "    }\n",
       "</style>\n",
       "<table border=\"1\" class=\"dataframe\">\n",
       "  <thead>\n",
       "    <tr style=\"text-align: right;\">\n",
       "      <th></th>\n",
       "      <th>Happiness Rank</th>\n",
       "      <th>Country</th>\n",
       "      <th>Happiness Score</th>\n",
       "      <th>Dystopia Residual</th>\n",
       "      <th>Economy (GDP per Capita)</th>\n",
       "      <th>Social Support</th>\n",
       "      <th>Health (Life Expectancy)</th>\n",
       "      <th>Freedom</th>\n",
       "      <th>Generosity</th>\n",
       "      <th>Trust (Government Corruption)</th>\n",
       "      <th>Region</th>\n",
       "    </tr>\n",
       "  </thead>\n",
       "  <tbody>\n",
       "    <tr>\n",
       "      <th>0</th>\n",
       "      <td>1</td>\n",
       "      <td>Finland</td>\n",
       "      <td>7,821</td>\n",
       "      <td>2,518</td>\n",
       "      <td>1,892</td>\n",
       "      <td>1,258</td>\n",
       "      <td>0,775</td>\n",
       "      <td>0,736</td>\n",
       "      <td>0,109</td>\n",
       "      <td>0,534</td>\n",
       "      <td>Western Europe</td>\n",
       "    </tr>\n",
       "    <tr>\n",
       "      <th>1</th>\n",
       "      <td>2</td>\n",
       "      <td>Denmark</td>\n",
       "      <td>7,636</td>\n",
       "      <td>2,226</td>\n",
       "      <td>1,953</td>\n",
       "      <td>1,243</td>\n",
       "      <td>0,777</td>\n",
       "      <td>0,719</td>\n",
       "      <td>0,188</td>\n",
       "      <td>0,532</td>\n",
       "      <td>Western Europe</td>\n",
       "    </tr>\n",
       "    <tr>\n",
       "      <th>2</th>\n",
       "      <td>3</td>\n",
       "      <td>Iceland</td>\n",
       "      <td>7,557</td>\n",
       "      <td>2,320</td>\n",
       "      <td>1,936</td>\n",
       "      <td>1,320</td>\n",
       "      <td>0,803</td>\n",
       "      <td>0,718</td>\n",
       "      <td>0,270</td>\n",
       "      <td>0,191</td>\n",
       "      <td>Western Europe</td>\n",
       "    </tr>\n",
       "    <tr>\n",
       "      <th>3</th>\n",
       "      <td>4</td>\n",
       "      <td>Switzerland</td>\n",
       "      <td>7,512</td>\n",
       "      <td>2,153</td>\n",
       "      <td>2,026</td>\n",
       "      <td>1,226</td>\n",
       "      <td>0,822</td>\n",
       "      <td>0,677</td>\n",
       "      <td>0,147</td>\n",
       "      <td>0,461</td>\n",
       "      <td>Western Europe</td>\n",
       "    </tr>\n",
       "    <tr>\n",
       "      <th>4</th>\n",
       "      <td>5</td>\n",
       "      <td>Netherlands</td>\n",
       "      <td>7,415</td>\n",
       "      <td>2,137</td>\n",
       "      <td>1,945</td>\n",
       "      <td>1,206</td>\n",
       "      <td>0,787</td>\n",
       "      <td>0,651</td>\n",
       "      <td>0,271</td>\n",
       "      <td>0,419</td>\n",
       "      <td>Western Europe</td>\n",
       "    </tr>\n",
       "  </tbody>\n",
       "</table>\n",
       "</div>"
      ],
      "text/plain": [
       "   Happiness Rank      Country Happiness Score Dystopia Residual  \\\n",
       "0               1      Finland           7,821             2,518   \n",
       "1               2      Denmark           7,636             2,226   \n",
       "2               3      Iceland           7,557             2,320   \n",
       "3               4  Switzerland           7,512             2,153   \n",
       "4               5  Netherlands           7,415             2,137   \n",
       "\n",
       "  Economy (GDP per Capita) Social Support Health (Life Expectancy) Freedom  \\\n",
       "0                    1,892          1,258                    0,775   0,736   \n",
       "1                    1,953          1,243                    0,777   0,719   \n",
       "2                    1,936          1,320                    0,803   0,718   \n",
       "3                    2,026          1,226                    0,822   0,677   \n",
       "4                    1,945          1,206                    0,787   0,651   \n",
       "\n",
       "  Generosity Trust (Government Corruption)          Region  \n",
       "0      0,109                         0,534  Western Europe  \n",
       "1      0,188                         0,532  Western Europe  \n",
       "2      0,270                         0,191  Western Europe  \n",
       "3      0,147                         0,461  Western Europe  \n",
       "4      0,271                         0,419  Western Europe  "
      ]
     },
     "execution_count": 225,
     "metadata": {},
     "output_type": "execute_result"
    }
   ],
   "source": [
    "df_2022.head()"
   ]
  },
  {
   "cell_type": "code",
   "execution_count": 226,
   "id": "171a6ddd",
   "metadata": {},
   "outputs": [
    {
     "data": {
      "text/plain": [
       "Happiness Rank                    0\n",
       "Country                           0\n",
       "Happiness Score                   1\n",
       "Dystopia Residual                 1\n",
       "Economy (GDP per Capita)          1\n",
       "Social Support                    1\n",
       "Health (Life Expectancy)          1\n",
       "Freedom                           1\n",
       "Generosity                        1\n",
       "Trust (Government Corruption)     1\n",
       "Region                           37\n",
       "dtype: int64"
      ]
     },
     "execution_count": 226,
     "metadata": {},
     "output_type": "execute_result"
    }
   ],
   "source": [
    "#Find missing values\n",
    "missing_values = df_2022.isna() \n",
    "missing_values.sum()"
   ]
  },
  {
   "cell_type": "code",
   "execution_count": 227,
   "id": "bece8456",
   "metadata": {},
   "outputs": [],
   "source": [
    "df_2022.loc[df_2022['Country'].isin([ 'Luxembourg*','North Cyprus*']), 'Region'] = 'Western Europe'\n",
    "df_2022.loc[df_2022['Country'].isin(['Czechia','Belarus*']), 'Region'] = 'Central and Eastern Europe'\n",
    "df_2022.loc[df_2022['Country'].isin( ['Turkmenistan*', 'Azerbaijan*']), 'Region'] = 'Commonwealth of Independent States'\n",
    "df_2022.loc[df_2022['Country'] ==  'Guatemala*', 'Region'] = 'Latin America and Caribbean'\n",
    "df_2022.loc[df_2022['Country'].isin([ \n",
    " 'Israel',\n",
    " 'Bahrain',\n",
    " 'United Arab Emirates',\n",
    " 'Saudi Arabia',\n",
    " 'Kuwait*',\n",
    " 'Libya*',\n",
    " 'Algeria',\n",
    " 'Morocco',\n",
    " 'Iraq',\n",
    " 'Iran',\n",
    " 'Turkey',\n",
    " 'Tunisia',\n",
    " 'Palestinian Territories*',\n",
    " 'Egypt',\n",
    " 'Yemen*',\n",
    " 'Jordan',\n",
    " 'Lebanon']), 'Region'] = 'Middle East and Northern Africa'\n",
    "\n",
    "df_2022.loc[df_2022['Country'].isin([ \n",
    " 'Gambia*',\n",
    " 'Liberia*',\n",
    " 'Congo',\n",
    " 'Niger*',\n",
    " 'Comoros*',\n",
    " 'Eswatini, Kingdom of*',\n",
    " 'Madagascar*',\n",
    " 'Chad*',\n",
    " 'Mauritania*',\n",
    " 'Lesotho*',\n",
    " 'Botswana*',\n",
    " 'Rwanda*']), 'Region'] = 'Sub-Saharan Africa'\n"
   ]
  },
  {
   "cell_type": "code",
   "execution_count": 228,
   "id": "61404fce",
   "metadata": {},
   "outputs": [],
   "source": [
    "#drop Country = 'xx' raw \n",
    "\n",
    "df_2022 = df_2022.drop(df_2022[df_2022['Country'] == 'xx'].index)\n"
   ]
  },
  {
   "cell_type": "code",
   "execution_count": 252,
   "id": "69d949cf",
   "metadata": {},
   "outputs": [
    {
     "data": {
      "text/html": [
       "<div>\n",
       "<style scoped>\n",
       "    .dataframe tbody tr th:only-of-type {\n",
       "        vertical-align: middle;\n",
       "    }\n",
       "\n",
       "    .dataframe tbody tr th {\n",
       "        vertical-align: top;\n",
       "    }\n",
       "\n",
       "    .dataframe thead th {\n",
       "        text-align: right;\n",
       "    }\n",
       "</style>\n",
       "<table border=\"1\" class=\"dataframe\">\n",
       "  <thead>\n",
       "    <tr style=\"text-align: right;\">\n",
       "      <th></th>\n",
       "      <th>Unnamed: 0</th>\n",
       "      <th>Happiness Rank</th>\n",
       "      <th>Country</th>\n",
       "      <th>Happiness Score</th>\n",
       "      <th>Dystopia Residual</th>\n",
       "      <th>Economy (GDP per Capita)</th>\n",
       "      <th>Social Support</th>\n",
       "      <th>Health (Life Expectancy)</th>\n",
       "      <th>Freedom</th>\n",
       "      <th>Generosity</th>\n",
       "      <th>Trust (Government Corruption)</th>\n",
       "      <th>Region</th>\n",
       "      <th>year</th>\n",
       "      <th>Year</th>\n",
       "    </tr>\n",
       "  </thead>\n",
       "  <tbody>\n",
       "    <tr>\n",
       "      <th>124</th>\n",
       "      <td>124</td>\n",
       "      <td>125</td>\n",
       "      <td>Swaziland</td>\n",
       "      <td>4.396</td>\n",
       "      <td>1.688</td>\n",
       "      <td>1.274</td>\n",
       "      <td>0.786</td>\n",
       "      <td>0.197</td>\n",
       "      <td>0.259</td>\n",
       "      <td>0.038</td>\n",
       "      <td>0.154</td>\n",
       "      <td>Sub-Saharan Africa</td>\n",
       "      <td>2022</td>\n",
       "      <td>2022</td>\n",
       "    </tr>\n",
       "  </tbody>\n",
       "</table>\n",
       "</div>"
      ],
      "text/plain": [
       "     Unnamed: 0  Happiness Rank    Country Happiness Score Dystopia Residual  \\\n",
       "124         124             125  Swaziland           4.396             1.688   \n",
       "\n",
       "    Economy (GDP per Capita) Social Support Health (Life Expectancy) Freedom  \\\n",
       "124                    1.274          0.786                    0.197   0.259   \n",
       "\n",
       "    Generosity Trust (Government Corruption)              Region  year  Year  \n",
       "124      0.038                         0.154  Sub-Saharan Africa  2022  2022  "
      ]
     },
     "execution_count": 252,
     "metadata": {},
     "output_type": "execute_result"
    }
   ],
   "source": [
    "df_2022.loc[df_2022['Country'] == 'Swaziland']"
   ]
  },
  {
   "cell_type": "code",
   "execution_count": 230,
   "id": "5654aa26",
   "metadata": {},
   "outputs": [],
   "source": [
    "#rename  'Eswatini, Kingdom of' to 'Swaziland'\n",
    "df_2022['Country'] = df_2022['Country'].replace({'Eswatini, Kingdom of*': 'Swaziland'})"
   ]
  },
  {
   "cell_type": "code",
   "execution_count": 232,
   "id": "90926545",
   "metadata": {},
   "outputs": [],
   "source": [
    "# Get rid of asterisk from country\n",
    "\n",
    "df_2022['Country'] = df_2022['Country'].str.replace('*', '', regex=False)"
   ]
  },
  {
   "cell_type": "code",
   "execution_count": 236,
   "id": "e90e3b0d",
   "metadata": {},
   "outputs": [],
   "source": [
    "#derive year column and fill with 2022\n",
    "df_2022['Year'] = 2022"
   ]
  },
  {
   "cell_type": "code",
   "execution_count": 240,
   "id": "6882f095",
   "metadata": {},
   "outputs": [
    {
     "name": "stdout",
     "output_type": "stream",
     "text": [
      "<class 'pandas.core.frame.DataFrame'>\n",
      "RangeIndex: 146 entries, 0 to 145\n",
      "Data columns (total 14 columns):\n",
      " #   Column                         Non-Null Count  Dtype \n",
      "---  ------                         --------------  ----- \n",
      " 0   Unnamed: 0                     146 non-null    int64 \n",
      " 1   Happiness Rank                 146 non-null    int64 \n",
      " 2   Country                        146 non-null    object\n",
      " 3   Happiness Score                146 non-null    object\n",
      " 4   Dystopia Residual              146 non-null    object\n",
      " 5   Economy (GDP per Capita)       146 non-null    object\n",
      " 6   Social Support                 146 non-null    object\n",
      " 7   Health (Life Expectancy)       146 non-null    object\n",
      " 8   Freedom                        146 non-null    object\n",
      " 9   Generosity                     146 non-null    object\n",
      " 10  Trust (Government Corruption)  146 non-null    object\n",
      " 11  Region                         146 non-null    object\n",
      " 12  year                           146 non-null    int64 \n",
      " 13  Year                           146 non-null    int64 \n",
      "dtypes: int64(4), object(10)\n",
      "memory usage: 16.1+ KB\n"
     ]
    }
   ],
   "source": [
    "df_2022.info()"
   ]
  },
  {
   "cell_type": "markdown",
   "id": "42abf08d",
   "metadata": {},
   "source": [
    "**Except for 'Happiness Rank' & 'Year', 'Region' and 'Country' every data type is set to 'object'.   \n",
    "They need to be altered to float64**"
   ]
  },
  {
   "cell_type": "code",
   "execution_count": 251,
   "id": "5ff1dec0",
   "metadata": {},
   "outputs": [],
   "source": [
    "df_2022['Happiness Score'] = df_2022['Happiness Score'].str.replace(',', '.', regex=False)\n",
    "df_2022['Dystopia Residual'] = df_2022['Dystopia Residual'].str.replace(',', '.', regex=False)\n",
    "df_2022['Economy (GDP per Capita)'] = df_2022['Economy (GDP per Capita)'].str.replace(',', '.', regex=False)\n",
    "df_2022['Social Support'] = df_2022['Social Support'].str.replace(',', '.', regex=False)\n",
    "df_2022['Health (Life Expectancy)'] = df_2022['Health (Life Expectancy)'].str.replace(',', '.', regex=False)\n",
    "df_2022['Freedom'] = df_2022['Freedom'].str.replace(',', '.', regex=False)\n",
    "df_2022['Generosity'] = df_2022['Generosity'].str.replace(',', '.', regex=False)\n",
    "df_2022['Trust (Government Corruption)'] = df_2022['Trust (Government Corruption)'].str.replace(',', '.', regex=False)"
   ]
  },
  {
   "cell_type": "code",
   "execution_count": 253,
   "id": "d0a9368c",
   "metadata": {},
   "outputs": [],
   "source": [
    "changeData = {\n",
    "    'Happiness Score': float,\n",
    "    'Dystopia Residual': float,\n",
    "    'Economy (GDP per Capita)': float,\n",
    "    'Social Support': float,\n",
    "    'Health (Life Expectancy)': float,\n",
    "    'Freedom': float,\n",
    "    'Generosity': float,\n",
    "    'Trust (Government Corruption)': float,\n",
    "}\n",
    "\n",
    "df_2022 = df_2022.astype(changeData)"
   ]
  },
  {
   "cell_type": "code",
   "execution_count": 255,
   "id": "710b65be",
   "metadata": {},
   "outputs": [
    {
     "name": "stdout",
     "output_type": "stream",
     "text": [
      "<class 'pandas.core.frame.DataFrame'>\n",
      "RangeIndex: 146 entries, 0 to 145\n",
      "Data columns (total 13 columns):\n",
      " #   Column                         Non-Null Count  Dtype  \n",
      "---  ------                         --------------  -----  \n",
      " 0   Unnamed: 0                     146 non-null    int64  \n",
      " 1   Happiness Rank                 146 non-null    int64  \n",
      " 2   Country                        146 non-null    object \n",
      " 3   Happiness Score                146 non-null    float64\n",
      " 4   Dystopia Residual              146 non-null    float64\n",
      " 5   Economy (GDP per Capita)       146 non-null    float64\n",
      " 6   Social Support                 146 non-null    float64\n",
      " 7   Health (Life Expectancy)       146 non-null    float64\n",
      " 8   Freedom                        146 non-null    float64\n",
      " 9   Generosity                     146 non-null    float64\n",
      " 10  Trust (Government Corruption)  146 non-null    float64\n",
      " 11  Region                         146 non-null    object \n",
      " 12  Year                           146 non-null    int64  \n",
      "dtypes: float64(8), int64(3), object(2)\n",
      "memory usage: 15.0+ KB\n"
     ]
    }
   ],
   "source": [
    "df_2022.info()"
   ]
  },
  {
   "cell_type": "code",
   "execution_count": 256,
   "id": "1481e20f",
   "metadata": {},
   "outputs": [
    {
     "data": {
      "text/html": [
       "<div>\n",
       "<style scoped>\n",
       "    .dataframe tbody tr th:only-of-type {\n",
       "        vertical-align: middle;\n",
       "    }\n",
       "\n",
       "    .dataframe tbody tr th {\n",
       "        vertical-align: top;\n",
       "    }\n",
       "\n",
       "    .dataframe thead th {\n",
       "        text-align: right;\n",
       "    }\n",
       "</style>\n",
       "<table border=\"1\" class=\"dataframe\">\n",
       "  <thead>\n",
       "    <tr style=\"text-align: right;\">\n",
       "      <th></th>\n",
       "      <th>Unnamed: 0</th>\n",
       "      <th>Happiness Rank</th>\n",
       "      <th>Happiness Score</th>\n",
       "      <th>Dystopia Residual</th>\n",
       "      <th>Economy (GDP per Capita)</th>\n",
       "      <th>Social Support</th>\n",
       "      <th>Health (Life Expectancy)</th>\n",
       "      <th>Freedom</th>\n",
       "      <th>Generosity</th>\n",
       "      <th>Trust (Government Corruption)</th>\n",
       "      <th>Year</th>\n",
       "    </tr>\n",
       "  </thead>\n",
       "  <tbody>\n",
       "    <tr>\n",
       "      <th>count</th>\n",
       "      <td>146.000000</td>\n",
       "      <td>146.000000</td>\n",
       "      <td>146.000000</td>\n",
       "      <td>146.000000</td>\n",
       "      <td>146.000000</td>\n",
       "      <td>146.000000</td>\n",
       "      <td>146.000000</td>\n",
       "      <td>146.000000</td>\n",
       "      <td>146.000000</td>\n",
       "      <td>146.000000</td>\n",
       "      <td>146.0</td>\n",
       "    </tr>\n",
       "    <tr>\n",
       "      <th>mean</th>\n",
       "      <td>72.500000</td>\n",
       "      <td>73.500000</td>\n",
       "      <td>5.553575</td>\n",
       "      <td>1.831808</td>\n",
       "      <td>1.410445</td>\n",
       "      <td>0.905863</td>\n",
       "      <td>0.586171</td>\n",
       "      <td>0.517226</td>\n",
       "      <td>0.147377</td>\n",
       "      <td>0.154781</td>\n",
       "      <td>2022.0</td>\n",
       "    </tr>\n",
       "    <tr>\n",
       "      <th>std</th>\n",
       "      <td>42.290661</td>\n",
       "      <td>42.290661</td>\n",
       "      <td>1.086843</td>\n",
       "      <td>0.534994</td>\n",
       "      <td>0.421663</td>\n",
       "      <td>0.280122</td>\n",
       "      <td>0.176336</td>\n",
       "      <td>0.145859</td>\n",
       "      <td>0.082799</td>\n",
       "      <td>0.127514</td>\n",
       "      <td>0.0</td>\n",
       "    </tr>\n",
       "    <tr>\n",
       "      <th>min</th>\n",
       "      <td>0.000000</td>\n",
       "      <td>1.000000</td>\n",
       "      <td>2.404000</td>\n",
       "      <td>0.187000</td>\n",
       "      <td>0.000000</td>\n",
       "      <td>0.000000</td>\n",
       "      <td>0.000000</td>\n",
       "      <td>0.000000</td>\n",
       "      <td>0.000000</td>\n",
       "      <td>0.000000</td>\n",
       "      <td>2022.0</td>\n",
       "    </tr>\n",
       "    <tr>\n",
       "      <th>25%</th>\n",
       "      <td>36.250000</td>\n",
       "      <td>37.250000</td>\n",
       "      <td>4.888750</td>\n",
       "      <td>1.555250</td>\n",
       "      <td>1.095500</td>\n",
       "      <td>0.732000</td>\n",
       "      <td>0.463250</td>\n",
       "      <td>0.440500</td>\n",
       "      <td>0.089000</td>\n",
       "      <td>0.068250</td>\n",
       "      <td>2022.0</td>\n",
       "    </tr>\n",
       "    <tr>\n",
       "      <th>50%</th>\n",
       "      <td>72.500000</td>\n",
       "      <td>73.500000</td>\n",
       "      <td>5.568500</td>\n",
       "      <td>1.894500</td>\n",
       "      <td>1.445500</td>\n",
       "      <td>0.957500</td>\n",
       "      <td>0.621500</td>\n",
       "      <td>0.543500</td>\n",
       "      <td>0.132500</td>\n",
       "      <td>0.119500</td>\n",
       "      <td>2022.0</td>\n",
       "    </tr>\n",
       "    <tr>\n",
       "      <th>75%</th>\n",
       "      <td>108.750000</td>\n",
       "      <td>109.750000</td>\n",
       "      <td>6.305000</td>\n",
       "      <td>2.153000</td>\n",
       "      <td>1.784750</td>\n",
       "      <td>1.114250</td>\n",
       "      <td>0.719750</td>\n",
       "      <td>0.626000</td>\n",
       "      <td>0.197750</td>\n",
       "      <td>0.198500</td>\n",
       "      <td>2022.0</td>\n",
       "    </tr>\n",
       "    <tr>\n",
       "      <th>max</th>\n",
       "      <td>145.000000</td>\n",
       "      <td>146.000000</td>\n",
       "      <td>7.821000</td>\n",
       "      <td>2.844000</td>\n",
       "      <td>2.209000</td>\n",
       "      <td>1.320000</td>\n",
       "      <td>0.942000</td>\n",
       "      <td>0.740000</td>\n",
       "      <td>0.468000</td>\n",
       "      <td>0.587000</td>\n",
       "      <td>2022.0</td>\n",
       "    </tr>\n",
       "  </tbody>\n",
       "</table>\n",
       "</div>"
      ],
      "text/plain": [
       "       Unnamed: 0  Happiness Rank  Happiness Score  Dystopia Residual  \\\n",
       "count  146.000000      146.000000       146.000000         146.000000   \n",
       "mean    72.500000       73.500000         5.553575           1.831808   \n",
       "std     42.290661       42.290661         1.086843           0.534994   \n",
       "min      0.000000        1.000000         2.404000           0.187000   \n",
       "25%     36.250000       37.250000         4.888750           1.555250   \n",
       "50%     72.500000       73.500000         5.568500           1.894500   \n",
       "75%    108.750000      109.750000         6.305000           2.153000   \n",
       "max    145.000000      146.000000         7.821000           2.844000   \n",
       "\n",
       "       Economy (GDP per Capita)  Social Support  Health (Life Expectancy)  \\\n",
       "count                146.000000      146.000000                146.000000   \n",
       "mean                   1.410445        0.905863                  0.586171   \n",
       "std                    0.421663        0.280122                  0.176336   \n",
       "min                    0.000000        0.000000                  0.000000   \n",
       "25%                    1.095500        0.732000                  0.463250   \n",
       "50%                    1.445500        0.957500                  0.621500   \n",
       "75%                    1.784750        1.114250                  0.719750   \n",
       "max                    2.209000        1.320000                  0.942000   \n",
       "\n",
       "          Freedom  Generosity  Trust (Government Corruption)    Year  \n",
       "count  146.000000  146.000000                     146.000000   146.0  \n",
       "mean     0.517226    0.147377                       0.154781  2022.0  \n",
       "std      0.145859    0.082799                       0.127514     0.0  \n",
       "min      0.000000    0.000000                       0.000000  2022.0  \n",
       "25%      0.440500    0.089000                       0.068250  2022.0  \n",
       "50%      0.543500    0.132500                       0.119500  2022.0  \n",
       "75%      0.626000    0.197750                       0.198500  2022.0  \n",
       "max      0.740000    0.468000                       0.587000  2022.0  "
      ]
     },
     "execution_count": 256,
     "metadata": {},
     "output_type": "execute_result"
    }
   ],
   "source": [
    "#EDA\n",
    "df_2022.describe()"
   ]
  },
  {
   "cell_type": "markdown",
   "id": "af2f4b41",
   "metadata": {},
   "source": [
    "## Export Data"
   ]
  },
  {
   "cell_type": "code",
   "execution_count": 257,
   "id": "d4e781e1",
   "metadata": {},
   "outputs": [],
   "source": [
    "#export to csv files \n",
    "df_2020.to_csv(os.path.join(path, 'Clean', 'df_2020_clean.csv'))\n",
    "df_2021.to_csv(os.path.join(path, 'Clean', 'df_2021_clean.csv'))\n",
    "df_2022.to_csv(os.path.join(path, 'Clean', 'df_2022_clean.csv'))"
   ]
  },
  {
   "cell_type": "markdown",
   "id": "c86b3d1a",
   "metadata": {},
   "source": [
    "## Merge Data"
   ]
  },
  {
   "cell_type": "code",
   "execution_count": 258,
   "id": "d89359d0",
   "metadata": {},
   "outputs": [],
   "source": [
    "#import cleaned data \n",
    "df_2015 = pd.read_csv(os.path.join(path, 'Clean', 'df_2015_clean.csv'), index_col = False)\n",
    "df_2016 = pd.read_csv(os.path.join(path, 'Clean', 'df_2016_clean.csv'), index_col = False)\n",
    "df_2017 = pd.read_csv(os.path.join(path, 'Clean', 'df_2017_clean.csv'), index_col = False)\n",
    "df_2018 = pd.read_csv(os.path.join(path, 'Clean', 'df_2018_clean.csv'), index_col = False)\n",
    "df_2019 = pd.read_csv(os.path.join(path, 'Clean', 'df_2019_clean.csv'), index_col = False)\n",
    "df_2020 = pd.read_csv(os.path.join(path, 'Clean', 'df_2020_clean.csv'), index_col = False)\n",
    "df_2021 = pd.read_csv(os.path.join(path, 'Clean', 'df_2021_clean.csv'), index_col = False)\n",
    "df_2022 = pd.read_csv(os.path.join(path, 'Clean', 'df_2022_clean.csv'), index_col = False)"
   ]
  },
  {
   "cell_type": "code",
   "execution_count": 259,
   "id": "5bfd88d4",
   "metadata": {},
   "outputs": [],
   "source": [
    "#merge all datasets\n",
    "df_merged = pd.concat([\n",
    "    df_2015\n",
    "    ,df_2016\n",
    "    ,df_2017\n",
    "    ,df_2018\n",
    "    ,df_2019\n",
    "    ,df_2020\n",
    "    ,df_2021\n",
    "    ,df_2022]\n",
    "    ,axis = 'rows'\n",
    "    , join = 'inner')"
   ]
  },
  {
   "cell_type": "code",
   "execution_count": 262,
   "id": "0433c54f",
   "metadata": {},
   "outputs": [
    {
     "data": {
      "text/plain": [
       "(1230, 11)"
      ]
     },
     "execution_count": 262,
     "metadata": {},
     "output_type": "execute_result"
    }
   ],
   "source": [
    "#check shape\n",
    "df_merged.shape"
   ]
  },
  {
   "cell_type": "code",
   "execution_count": 269,
   "id": "095a4480",
   "metadata": {},
   "outputs": [
    {
     "name": "stdout",
     "output_type": "stream",
     "text": [
      "<class 'pandas.core.frame.DataFrame'>\n",
      "Int64Index: 1230 entries, 0 to 145\n",
      "Data columns (total 11 columns):\n",
      " #   Column                         Non-Null Count  Dtype  \n",
      "---  ------                         --------------  -----  \n",
      " 0   Unnamed: 0                     1230 non-null   int64  \n",
      " 1   Country                        1230 non-null   object \n",
      " 2   Region                         1230 non-null   object \n",
      " 3   Happiness Rank                 1230 non-null   int64  \n",
      " 4   Happiness Score                1230 non-null   float64\n",
      " 5   Economy (GDP per Capita)       1230 non-null   float64\n",
      " 6   Health (Life Expectancy)       1230 non-null   float64\n",
      " 7   Freedom                        1230 non-null   float64\n",
      " 8   Trust (Government Corruption)  1230 non-null   float64\n",
      " 9   Generosity                     1230 non-null   float64\n",
      " 10  Year                           1230 non-null   int64  \n",
      "dtypes: float64(6), int64(3), object(2)\n",
      "memory usage: 115.3+ KB\n"
     ]
    }
   ],
   "source": [
    "df_merged.info()"
   ]
  },
  {
   "cell_type": "markdown",
   "id": "e3ed120a",
   "metadata": {},
   "source": [
    "### Region Name Consistency Check"
   ]
  },
  {
   "cell_type": "code",
   "execution_count": 270,
   "id": "0ab8a78d",
   "metadata": {
    "scrolled": true
   },
   "outputs": [
    {
     "data": {
      "text/plain": [
       "Sub-Saharan Africa                    305\n",
       "Central and Eastern Europe            197\n",
       "Latin America and Caribbean           172\n",
       "Western Europe                        168\n",
       "Middle East and Northern Africa       113\n",
       "Southeastern Asia                      53\n",
       "Southern Asia                          41\n",
       "Eastern Asia                           36\n",
       "Commonwealth of Independent States     35\n",
       "Middle East and North Africa           34\n",
       "Southeast Asia                         18\n",
       "North America                          14\n",
       "South Asia                             14\n",
       "East Asia                              12\n",
       "Australia and New Zealand              10\n",
       "North America and ANZ                   8\n",
       "Name: Region, dtype: int64"
      ]
     },
     "execution_count": 270,
     "metadata": {},
     "output_type": "execute_result"
    }
   ],
   "source": [
    "#Check Region names\n",
    "df_merged['Region'].value_counts()"
   ]
  },
  {
   "cell_type": "markdown",
   "id": "6f1812e6",
   "metadata": {},
   "source": [
    "**Some regions have different names so the names need to be consistent!**\n",
    "\n",
    "Southeastern Asia = Southeast Asia  \n",
    "Southern Asia = South Asia  \n",
    "Eastern Asia - East Asia  \n",
    "Middle East and Northern Africa = Middle East and North Africa \n",
    "North America = North America and ANZ  "
   ]
  },
  {
   "cell_type": "code",
   "execution_count": 282,
   "id": "4be10db8",
   "metadata": {},
   "outputs": [],
   "source": [
    "#Update region names\n",
    "df_merged['Region'] = df_merged['Region'].replace({'Southeastern Asia': 'Southeast Asia'})\n",
    "df_merged['Region'] = df_merged['Region'].replace({'Southern Asia': 'South Asia'})\n",
    "df_merged['Region'] = df_merged['Region'].replace({'Eastern Asia': 'East Asia'})\n",
    "df_merged['Region'] = df_merged['Region'].replace({'Middle East and Northern Africa': 'Middle East and North Africa'})\n",
    "df_merged['Region'] = df_merged['Region'].replace({'North America': 'North America and ANZ'})\n",
    "df_merged['Region'] = df_merged['Region'].replace({'Australia and New Zealand': 'North America and ANZ'})\n",
    "                                    "
   ]
  },
  {
   "cell_type": "markdown",
   "id": "4de2eca7",
   "metadata": {},
   "source": [
    "**Update countries belonging to Commonwealth of Independent States for the year between 2015 & 2019**"
   ]
  },
  {
   "cell_type": "code",
   "execution_count": 299,
   "id": "829cb40e",
   "metadata": {},
   "outputs": [],
   "source": [
    "commonwealthcountry = df_merged.loc[df_merged['Region'] == 'Commonwealth of Independent States']\n",
    "commonwealthcountry_list = commonwealthcountry['Country'].unique().tolist()"
   ]
  },
  {
   "cell_type": "code",
   "execution_count": 306,
   "id": "82735472",
   "metadata": {},
   "outputs": [],
   "source": [
    "# Create a boolean mask to filter rows\n",
    "mask = (df_merged['Region'] == 'Central and Eastern Europe') & (df_merged['Year'] >= 2015) & (df_merged['Year'] <= 2019) & (df_merged['Country'].isin(commonwealthcountry_list))\n",
    "\n",
    "# Update the 'Region' column for the filtered rows\n",
    "df_merged.loc[mask, 'Region'] = 'Commonwealth of Independent States'"
   ]
  },
  {
   "cell_type": "code",
   "execution_count": 308,
   "id": "1009237d",
   "metadata": {},
   "outputs": [
    {
     "data": {
      "text/plain": [
       "Sub-Saharan Africa                    305\n",
       "Latin America and Caribbean           172\n",
       "Western Europe                        168\n",
       "Middle East and North Africa          147\n",
       "Central and Eastern Europe            137\n",
       "Commonwealth of Independent States     95\n",
       "Southeast Asia                         71\n",
       "South Asia                             55\n",
       "East Asia                              48\n",
       "North America and ANZ                  32\n",
       "Name: Region, dtype: int64"
      ]
     },
     "execution_count": 308,
     "metadata": {},
     "output_type": "execute_result"
    }
   ],
   "source": [
    "df_merged['Region'].value_counts()"
   ]
  },
  {
   "cell_type": "markdown",
   "id": "9d21954c",
   "metadata": {},
   "source": [
    "### Country Name Consistency Check \n",
    "\n",
    "#### Western Europe"
   ]
  },
  {
   "cell_type": "code",
   "execution_count": 313,
   "id": "a18f8abc",
   "metadata": {},
   "outputs": [
    {
     "data": {
      "text/plain": [
       "Switzerland        8\n",
       "Iceland            8\n",
       "Greece             8\n",
       "Portugal           8\n",
       "Cyprus             8\n",
       "Italy              8\n",
       "Malta              8\n",
       "Spain              8\n",
       "France             8\n",
       "Germany            8\n",
       "United Kingdom     8\n",
       "Belgium            8\n",
       "Ireland            8\n",
       "Luxembourg         8\n",
       "Austria            8\n",
       "Sweden             8\n",
       "Netherlands        8\n",
       "Finland            8\n",
       "Norway             8\n",
       "Denmark            8\n",
       "North Cyprus       6\n",
       "Northern Cyprus    2\n",
       "Name: Country, dtype: int64"
      ]
     },
     "execution_count": 313,
     "metadata": {},
     "output_type": "execute_result"
    }
   ],
   "source": [
    "#Northern Cyprus and North Cyprus have inconsistent name \n",
    "df_merged.loc[df_merged['Region']== 'Western Europe']['Country'].value_counts()"
   ]
  },
  {
   "cell_type": "code",
   "execution_count": 314,
   "id": "92d40276",
   "metadata": {},
   "outputs": [],
   "source": [
    "#Change Northern Cyprus to North Cyprus\n",
    "df_merged['Country'] = df_merged['Country'].replace({'Northern Cyprus': 'North Cyprus'})"
   ]
  },
  {
   "cell_type": "code",
   "execution_count": 348,
   "id": "9a19f399",
   "metadata": {},
   "outputs": [
    {
     "data": {
      "text/plain": [
       "Switzerland       8\n",
       "United Kingdom    8\n",
       "Portugal          8\n",
       "Cyprus            8\n",
       "North Cyprus      8\n",
       "Italy             8\n",
       "Malta             8\n",
       "Spain             8\n",
       "France            8\n",
       "Germany           8\n",
       "Belgium           8\n",
       "Iceland           8\n",
       "Ireland           8\n",
       "Luxembourg        8\n",
       "Austria           8\n",
       "Sweden            8\n",
       "Netherlands       8\n",
       "Finland           8\n",
       "Norway            8\n",
       "Denmark           8\n",
       "Greece            8\n",
       "Name: Country, dtype: int64"
      ]
     },
     "execution_count": 348,
     "metadata": {},
     "output_type": "execute_result"
    }
   ],
   "source": [
    "#Check \n",
    "df_merged.loc[df_merged['Region']== 'Western Europe']['Country'].value_counts()"
   ]
  },
  {
   "cell_type": "markdown",
   "id": "dfd4e553",
   "metadata": {},
   "source": [
    "#### Sub-Saharan Africa"
   ]
  },
  {
   "cell_type": "code",
   "execution_count": 316,
   "id": "f75e0efd",
   "metadata": {},
   "outputs": [
    {
     "data": {
      "text/plain": [
       "Mauritius                   8\n",
       "Madagascar                  8\n",
       "Niger                       8\n",
       "Gabon                       8\n",
       "Senegal                     8\n",
       "Uganda                      8\n",
       "Chad                        8\n",
       "Nigeria                     8\n",
       "Mali                        8\n",
       "Guinea                      8\n",
       "Cameroon                    8\n",
       "Malawi                      8\n",
       "Botswana                    8\n",
       "Ivory Coast                 8\n",
       "Kenya                       8\n",
       "Mauritania                  8\n",
       "Sierra Leone                8\n",
       "Ethiopia                    8\n",
       "Burkina Faso                8\n",
       "Rwanda                      8\n",
       "Liberia                     8\n",
       "Zimbabwe                    8\n",
       "Ghana                       8\n",
       "South Africa                8\n",
       "Benin                       8\n",
       "Togo                        8\n",
       "Zambia                      8\n",
       "Tanzania                    8\n",
       "Burundi                     7\n",
       "Namibia                     7\n",
       "Congo (Brazzaville)         7\n",
       "Lesotho                     7\n",
       "Mozambique                  7\n",
       "Comoros                     6\n",
       "Congo (Kinshasa)            6\n",
       "Swaziland                   5\n",
       "South Sudan                 5\n",
       "Central African Republic    4\n",
       "Angola                      4\n",
       "Sudan                       4\n",
       "Somalia                     4\n",
       "Gambia                      4\n",
       "Djibouti                    1\n",
       "Somaliland Region           1\n",
       "Somaliland region           1\n",
       "Congo                       1\n",
       "Name: Country, dtype: int64"
      ]
     },
     "execution_count": 316,
     "metadata": {},
     "output_type": "execute_result"
    }
   ],
   "source": [
    "df_merged.loc[df_merged['Region']== 'Sub-Saharan Africa']['Country'].value_counts()\n"
   ]
  },
  {
   "cell_type": "code",
   "execution_count": 356,
   "id": "e9740f03",
   "metadata": {},
   "outputs": [],
   "source": [
    "#The name 'Somaliland Region' is not consistent and needs to change \n",
    "df_merged['Country'] = df_merged['Country'].replace({'Somaliland region': 'Somalia'})\n",
    "df_merged['Country'] = df_merged['Country'].replace({'Somaliland Region': 'Somalia'})\n",
    "\n",
    "# 'Congo' will be assigned to 'Congo {Brazzaville} since it's the majority in the data\n",
    "df_merged['Country'] = df_merged['Country'].replace({'Congo': 'Congo (Brazzaville)'})"
   ]
  },
  {
   "cell_type": "code",
   "execution_count": 358,
   "id": "1bc3b658",
   "metadata": {},
   "outputs": [
    {
     "data": {
      "text/plain": [
       "Mauritius                   8\n",
       "Togo                        8\n",
       "Nigeria                     8\n",
       "Mali                        8\n",
       "Congo (Brazzaville)         8\n",
       "Uganda                      8\n",
       "Senegal                     8\n",
       "Gabon                       8\n",
       "Niger                       8\n",
       "Tanzania                    8\n",
       "Madagascar                  8\n",
       "Chad                        8\n",
       "Guinea                      8\n",
       "Ivory Coast                 8\n",
       "Burkina Faso                8\n",
       "Rwanda                      8\n",
       "Benin                       8\n",
       "Cameroon                    8\n",
       "Malawi                      8\n",
       "Botswana                    8\n",
       "Ethiopia                    8\n",
       "Zambia                      8\n",
       "South Africa                8\n",
       "Ghana                       8\n",
       "Liberia                     8\n",
       "Zimbabwe                    8\n",
       "Sierra Leone                8\n",
       "Mauritania                  8\n",
       "Kenya                       8\n",
       "Namibia                     7\n",
       "Lesotho                     7\n",
       "Mozambique                  7\n",
       "Burundi                     7\n",
       "Congo (Kinshasa)            6\n",
       "Comoros                     6\n",
       "Somalia                     6\n",
       "South Sudan                 5\n",
       "Central African Republic    5\n",
       "Swaziland                   5\n",
       "Angola                      4\n",
       "Sudan                       4\n",
       "Gambia                      4\n",
       "Djibouti                    1\n",
       "Name: Country, dtype: int64"
      ]
     },
     "execution_count": 358,
     "metadata": {},
     "output_type": "execute_result"
    }
   ],
   "source": [
    "#Check\n",
    "df_merged.loc[df_merged['Region']== 'Sub-Saharan Africa']['Country'].value_counts()"
   ]
  },
  {
   "cell_type": "markdown",
   "id": "1084e0ed",
   "metadata": {},
   "source": [
    "#### Latin America and Caribbean"
   ]
  },
  {
   "cell_type": "code",
   "execution_count": 319,
   "id": "d87e0d23",
   "metadata": {},
   "outputs": [
    {
     "data": {
      "text/plain": [
       "Costa Rica                  8\n",
       "El Salvador                 8\n",
       "Honduras                    8\n",
       "Dominican Republic          8\n",
       "Jamaica                     8\n",
       "Peru                        8\n",
       "Nicaragua                   8\n",
       "Paraguay                    8\n",
       "Bolivia                     8\n",
       "Mexico                      8\n",
       "Guatemala                   8\n",
       "Ecuador                     8\n",
       "Colombia                    8\n",
       "Uruguay                     8\n",
       "Argentina                   8\n",
       "Chile                       8\n",
       "Panama                      8\n",
       "Venezuela                   8\n",
       "Brazil                      8\n",
       "Haiti                       7\n",
       "Trinidad and Tobago         4\n",
       "Belize                      3\n",
       "Suriname                    2\n",
       "Trinidad & Tobago           2\n",
       "Puerto Rico                 1\n",
       "Central African Republic    1\n",
       "Name: Country, dtype: int64"
      ]
     },
     "execution_count": 319,
     "metadata": {},
     "output_type": "execute_result"
    }
   ],
   "source": [
    "df_merged.loc[df_merged['Region']== 'Latin America and Caribbean']['Country'].value_counts()"
   ]
  },
  {
   "cell_type": "code",
   "execution_count": 326,
   "id": "9190acfb",
   "metadata": {},
   "outputs": [],
   "source": [
    "#The name 'Trinidad & Tobago' is not consistent and needs to change \n",
    "df_merged['Country'] = df_merged['Country'].replace({'Trinidad & Tobago': 'Trinidad and Tobago'})"
   ]
  },
  {
   "cell_type": "code",
   "execution_count": 325,
   "id": "30d7be6b",
   "metadata": {},
   "outputs": [],
   "source": [
    "#Add 'Central African Republic' to 'Sub-Saharan Africa' Region\n",
    "df_merged.loc[df_merged['Country']== 'Central African Republic', 'Region'] = 'Sub-Saharan Africa'"
   ]
  },
  {
   "cell_type": "code",
   "execution_count": 360,
   "id": "9accf3e6",
   "metadata": {},
   "outputs": [
    {
     "data": {
      "text/plain": [
       "Costa Rica             8\n",
       "El Salvador            8\n",
       "Honduras               8\n",
       "Dominican Republic     8\n",
       "Jamaica                8\n",
       "Peru                   8\n",
       "Nicaragua              8\n",
       "Paraguay               8\n",
       "Bolivia                8\n",
       "Ecuador                8\n",
       "Mexico                 8\n",
       "Guatemala              8\n",
       "Colombia               8\n",
       "Uruguay                8\n",
       "Argentina              8\n",
       "Chile                  8\n",
       "Panama                 8\n",
       "Venezuela              8\n",
       "Brazil                 8\n",
       "Haiti                  7\n",
       "Trinidad and Tobago    6\n",
       "Belize                 3\n",
       "Suriname               2\n",
       "Puerto Rico            1\n",
       "Name: Country, dtype: int64"
      ]
     },
     "execution_count": 360,
     "metadata": {},
     "output_type": "execute_result"
    }
   ],
   "source": [
    "#check \n",
    "df_merged.loc[df_merged['Region']== 'Latin America and Caribbean']['Country'].value_counts()"
   ]
  },
  {
   "cell_type": "markdown",
   "id": "c81e9a0d",
   "metadata": {},
   "source": [
    "#### Middle East and North Africa "
   ]
  },
  {
   "cell_type": "code",
   "execution_count": 327,
   "id": "32ebafad",
   "metadata": {},
   "outputs": [
    {
     "data": {
      "text/plain": [
       "Israel                     8\n",
       "United Arab Emirates       8\n",
       "Yemen                      8\n",
       "Egypt                      8\n",
       "Iraq                       8\n",
       "Iran                       8\n",
       "Palestinian Territories    8\n",
       "Tunisia                    8\n",
       "Lebanon                    8\n",
       "Morocco                    8\n",
       "Jordan                     8\n",
       "Turkey                     8\n",
       "Algeria                    8\n",
       "Libya                      8\n",
       "Bahrain                    8\n",
       "Kuwait                     8\n",
       "Saudi Arabia               8\n",
       "Qatar                      5\n",
       "Syria                      5\n",
       "Oman                       1\n",
       "Name: Country, dtype: int64"
      ]
     },
     "execution_count": 327,
     "metadata": {},
     "output_type": "execute_result"
    }
   ],
   "source": [
    "df_merged.loc[df_merged['Region']== 'Middle East and North Africa']['Country'].value_counts()"
   ]
  },
  {
   "cell_type": "markdown",
   "id": "7c9e691f",
   "metadata": {},
   "source": [
    "#### Central and Eastern Europe  "
   ]
  },
  {
   "cell_type": "code",
   "execution_count": 329,
   "id": "0f9713a8",
   "metadata": {},
   "outputs": [
    {
     "data": {
      "text/plain": [
       "Serbia                    8\n",
       "Hungary                   8\n",
       "Slovenia                  8\n",
       "Lithuania                 8\n",
       "Poland                    8\n",
       "Croatia                   8\n",
       "Kosovo                    8\n",
       "Estonia                   8\n",
       "Montenegro                8\n",
       "Romania                   8\n",
       "Slovakia                  8\n",
       "Latvia                    8\n",
       "Bulgaria                  8\n",
       "Albania                   8\n",
       "Bosnia and Herzegovina    8\n",
       "Czech Republic            7\n",
       "Macedonia                 5\n",
       "North Macedonia           3\n",
       "Czechia                   1\n",
       "Belarus                   1\n",
       "Name: Country, dtype: int64"
      ]
     },
     "execution_count": 329,
     "metadata": {},
     "output_type": "execute_result"
    }
   ],
   "source": [
    "df_merged.loc[df_merged['Region']== 'Central and Eastern Europe']['Country'].value_counts()"
   ]
  },
  {
   "cell_type": "code",
   "execution_count": 333,
   "id": "f321b886",
   "metadata": {},
   "outputs": [],
   "source": [
    "#Czech Republic name is not consistent, Macedonia's name is not updated to North Macedonia \n",
    "\n",
    "df_merged['Country'] = df_merged['Country'].replace({'Czechia': 'Czech Republic'})\n",
    "df_merged['Country'] = df_merged['Country'].replace({'Macedonia': 'North Macedonia'})\n",
    "\n",
    "#Belarus is in commonwealth of independent states now so update \n",
    "df_merged.loc[df_merged['Country']== 'Belarus', 'Region'] = 'Commonwealth of Independent States'"
   ]
  },
  {
   "cell_type": "code",
   "execution_count": 361,
   "id": "74b82e76",
   "metadata": {},
   "outputs": [
    {
     "data": {
      "text/plain": [
       "Czech Republic            8\n",
       "Romania                   8\n",
       "Hungary                   8\n",
       "Bosnia and Herzegovina    8\n",
       "Albania                   8\n",
       "North Macedonia           8\n",
       "Latvia                    8\n",
       "Serbia                    8\n",
       "Montenegro                8\n",
       "Slovakia                  8\n",
       "Estonia                   8\n",
       "Kosovo                    8\n",
       "Croatia                   8\n",
       "Poland                    8\n",
       "Lithuania                 8\n",
       "Slovenia                  8\n",
       "Bulgaria                  8\n",
       "Name: Country, dtype: int64"
      ]
     },
     "execution_count": 361,
     "metadata": {},
     "output_type": "execute_result"
    }
   ],
   "source": [
    "#check \n",
    "df_merged.loc[df_merged['Region']== 'Central and Eastern Europe']['Country'].value_counts()"
   ]
  },
  {
   "cell_type": "markdown",
   "id": "0a0e2513",
   "metadata": {},
   "source": [
    "#### Commonwealth of Independent States"
   ]
  },
  {
   "cell_type": "code",
   "execution_count": 336,
   "id": "7dc7ee7c",
   "metadata": {},
   "outputs": [
    {
     "data": {
      "text/plain": [
       "Uzbekistan      8\n",
       "Moldova         8\n",
       "Kazakhstan      8\n",
       "Belarus         8\n",
       "Russia          8\n",
       "Turkmenistan    8\n",
       "Kyrgyzstan      8\n",
       "Azerbaijan      8\n",
       "Tajikistan      8\n",
       "Ukraine         8\n",
       "Armenia         8\n",
       "Georgia         8\n",
       "Name: Country, dtype: int64"
      ]
     },
     "execution_count": 336,
     "metadata": {},
     "output_type": "execute_result"
    }
   ],
   "source": [
    "df_merged.loc[df_merged['Region']== 'Commonwealth of Independent States']['Country'].value_counts()"
   ]
  },
  {
   "cell_type": "markdown",
   "id": "6bcc271d",
   "metadata": {},
   "source": [
    "#### Southeast Asia "
   ]
  },
  {
   "cell_type": "code",
   "execution_count": 337,
   "id": "24b0013a",
   "metadata": {},
   "outputs": [
    {
     "data": {
      "text/plain": [
       "Singapore      8\n",
       "Thailand       8\n",
       "Malaysia       8\n",
       "Indonesia      8\n",
       "Vietnam        8\n",
       "Philippines    8\n",
       "Myanmar        8\n",
       "Cambodia       8\n",
       "Laos           7\n",
       "Name: Country, dtype: int64"
      ]
     },
     "execution_count": 337,
     "metadata": {},
     "output_type": "execute_result"
    }
   ],
   "source": [
    "df_merged.loc[df_merged['Region']== 'Southeast Asia']['Country'].value_counts()"
   ]
  },
  {
   "cell_type": "markdown",
   "id": "c081df2d",
   "metadata": {},
   "source": [
    "#### South Asia"
   ]
  },
  {
   "cell_type": "code",
   "execution_count": 339,
   "id": "71b5bee1",
   "metadata": {},
   "outputs": [
    {
     "data": {
      "text/plain": [
       "Pakistan       8\n",
       "Bangladesh     8\n",
       "India          8\n",
       "Nepal          8\n",
       "Sri Lanka      8\n",
       "Afghanistan    8\n",
       "Bhutan         5\n",
       "Maldives       2\n",
       "Name: Country, dtype: int64"
      ]
     },
     "execution_count": 339,
     "metadata": {},
     "output_type": "execute_result"
    }
   ],
   "source": [
    "df_merged.loc[df_merged['Region']== 'South Asia']['Country'].value_counts()"
   ]
  },
  {
   "cell_type": "markdown",
   "id": "d6fdd917",
   "metadata": {},
   "source": [
    "#### East Asia"
   ]
  },
  {
   "cell_type": "code",
   "execution_count": 341,
   "id": "f5608e45",
   "metadata": {},
   "outputs": [
    {
     "data": {
      "text/plain": [
       "Japan                        8\n",
       "South Korea                  8\n",
       "China                        8\n",
       "Mongolia                     8\n",
       "Taiwan                       4\n",
       "Hong Kong                    4\n",
       "Taiwan Province of China     4\n",
       "Hong Kong S.A.R. of China    3\n",
       "Hong Kong S.A.R., China      1\n",
       "Name: Country, dtype: int64"
      ]
     },
     "execution_count": 341,
     "metadata": {},
     "output_type": "execute_result"
    }
   ],
   "source": [
    "df_merged.loc[df_merged['Region']== 'East Asia']['Country'].value_counts()"
   ]
  },
  {
   "cell_type": "code",
   "execution_count": 345,
   "id": "7b08b977",
   "metadata": {},
   "outputs": [],
   "source": [
    "#Hong Kong name is not consistent \n",
    "df_merged['Country'] = df_merged['Country'].replace({'Hong Kong': 'Hong Kong S.A.R. of China'})\n",
    "df_merged['Country'] = df_merged['Country'].replace({'Hong Kong S.A.R., China': 'Hong Kong S.A.R. of China'})\n",
    "\n",
    "#Taiwan name is not consistent \n",
    "df_merged['Country'] = df_merged['Country'].replace({'Taiwan Province of China': 'Taiwan'})\n"
   ]
  },
  {
   "cell_type": "code",
   "execution_count": 362,
   "id": "a7f9b0ce",
   "metadata": {},
   "outputs": [
    {
     "data": {
      "text/plain": [
       "Taiwan                       8\n",
       "Japan                        8\n",
       "South Korea                  8\n",
       "Hong Kong S.A.R. of China    8\n",
       "China                        8\n",
       "Mongolia                     8\n",
       "Name: Country, dtype: int64"
      ]
     },
     "execution_count": 362,
     "metadata": {},
     "output_type": "execute_result"
    }
   ],
   "source": [
    "#check \n",
    "df_merged.loc[df_merged['Region']== 'East Asia']['Country'].value_counts()"
   ]
  },
  {
   "cell_type": "markdown",
   "id": "d1001c15",
   "metadata": {},
   "source": [
    "#### North America and ANZ"
   ]
  },
  {
   "cell_type": "code",
   "execution_count": 346,
   "id": "e4e2b656",
   "metadata": {},
   "outputs": [
    {
     "data": {
      "text/plain": [
       "Canada           8\n",
       "New Zealand      8\n",
       "Australia        8\n",
       "United States    8\n",
       "Name: Country, dtype: int64"
      ]
     },
     "execution_count": 346,
     "metadata": {},
     "output_type": "execute_result"
    }
   ],
   "source": [
    "df_merged.loc[df_merged['Region']== 'North America and ANZ']['Country'].value_counts()"
   ]
  },
  {
   "cell_type": "code",
   "execution_count": 382,
   "id": "dd983d79",
   "metadata": {},
   "outputs": [],
   "source": [
    "#export merged data\n",
    "df_merged.to_csv(os.path.join(path, 'Clean', 'whr_merged.csv'))"
   ]
  },
  {
   "cell_type": "markdown",
   "id": "926b1f41",
   "metadata": {},
   "source": [
    "## Data Profiling "
   ]
  },
  {
   "cell_type": "code",
   "execution_count": 381,
   "id": "ef0211b4",
   "metadata": {},
   "outputs": [
    {
     "name": "stdout",
     "output_type": "stream",
     "text": [
      "<class 'pandas.core.frame.DataFrame'>\n",
      "Int64Index: 1230 entries, 0 to 145\n",
      "Data columns (total 11 columns):\n",
      " #   Column                         Non-Null Count  Dtype  \n",
      "---  ------                         --------------  -----  \n",
      " 0   Unnamed: 0                     1230 non-null   int64  \n",
      " 1   Country                        1230 non-null   object \n",
      " 2   Region                         1230 non-null   object \n",
      " 3   Happiness Rank                 1230 non-null   int64  \n",
      " 4   Happiness Score                1230 non-null   float64\n",
      " 5   Economy (GDP per Capita)       1230 non-null   float64\n",
      " 6   Health (Life Expectancy)       1230 non-null   float64\n",
      " 7   Freedom                        1230 non-null   float64\n",
      " 8   Trust (Government Corruption)  1230 non-null   float64\n",
      " 9   Generosity                     1230 non-null   float64\n",
      " 10  Year                           1230 non-null   int64  \n",
      "dtypes: float64(6), int64(3), object(2)\n",
      "memory usage: 147.6+ KB\n"
     ]
    }
   ],
   "source": [
    "df_merged.info()"
   ]
  },
  {
   "cell_type": "code",
   "execution_count": 389,
   "id": "fafb7950",
   "metadata": {},
   "outputs": [
    {
     "data": {
      "text/html": [
       "<div>\n",
       "<style scoped>\n",
       "    .dataframe tbody tr th:only-of-type {\n",
       "        vertical-align: middle;\n",
       "    }\n",
       "\n",
       "    .dataframe tbody tr th {\n",
       "        vertical-align: top;\n",
       "    }\n",
       "\n",
       "    .dataframe thead th {\n",
       "        text-align: right;\n",
       "    }\n",
       "</style>\n",
       "<table border=\"1\" class=\"dataframe\">\n",
       "  <thead>\n",
       "    <tr style=\"text-align: right;\">\n",
       "      <th></th>\n",
       "      <th>Unnamed: 0</th>\n",
       "      <th>Happiness Rank</th>\n",
       "      <th>Happiness Score</th>\n",
       "      <th>Economy (GDP per Capita)</th>\n",
       "      <th>Health (Life Expectancy)</th>\n",
       "      <th>Freedom</th>\n",
       "      <th>Trust (Government Corruption)</th>\n",
       "      <th>Generosity</th>\n",
       "      <th>Year</th>\n",
       "    </tr>\n",
       "  </thead>\n",
       "  <tbody>\n",
       "    <tr>\n",
       "      <th>count</th>\n",
       "      <td>1230.000000</td>\n",
       "      <td>1230.000000</td>\n",
       "      <td>1230.000000</td>\n",
       "      <td>1230.000000</td>\n",
       "      <td>1230.000000</td>\n",
       "      <td>1230.000000</td>\n",
       "      <td>1230.000000</td>\n",
       "      <td>1230.000000</td>\n",
       "      <td>1230.000000</td>\n",
       "    </tr>\n",
       "    <tr>\n",
       "      <th>mean</th>\n",
       "      <td>76.425203</td>\n",
       "      <td>77.420325</td>\n",
       "      <td>5.430092</td>\n",
       "      <td>0.976255</td>\n",
       "      <td>0.608132</td>\n",
       "      <td>0.440833</td>\n",
       "      <td>0.130913</td>\n",
       "      <td>0.201583</td>\n",
       "      <td>2018.447154</td>\n",
       "    </tr>\n",
       "    <tr>\n",
       "      <th>std</th>\n",
       "      <td>44.486461</td>\n",
       "      <td>44.486654</td>\n",
       "      <td>1.115361</td>\n",
       "      <td>0.435247</td>\n",
       "      <td>0.241249</td>\n",
       "      <td>0.154415</td>\n",
       "      <td>0.110910</td>\n",
       "      <td>0.115522</td>\n",
       "      <td>2.282716</td>\n",
       "    </tr>\n",
       "    <tr>\n",
       "      <th>min</th>\n",
       "      <td>0.000000</td>\n",
       "      <td>1.000000</td>\n",
       "      <td>2.404000</td>\n",
       "      <td>0.000000</td>\n",
       "      <td>0.000000</td>\n",
       "      <td>0.000000</td>\n",
       "      <td>0.000000</td>\n",
       "      <td>0.000000</td>\n",
       "      <td>2015.000000</td>\n",
       "    </tr>\n",
       "    <tr>\n",
       "      <th>25%</th>\n",
       "      <td>38.000000</td>\n",
       "      <td>39.000000</td>\n",
       "      <td>4.584500</td>\n",
       "      <td>0.668250</td>\n",
       "      <td>0.439250</td>\n",
       "      <td>0.344250</td>\n",
       "      <td>0.056000</td>\n",
       "      <td>0.118000</td>\n",
       "      <td>2016.000000</td>\n",
       "    </tr>\n",
       "    <tr>\n",
       "      <th>50%</th>\n",
       "      <td>76.000000</td>\n",
       "      <td>77.000000</td>\n",
       "      <td>5.410500</td>\n",
       "      <td>1.013580</td>\n",
       "      <td>0.639427</td>\n",
       "      <td>0.458135</td>\n",
       "      <td>0.096000</td>\n",
       "      <td>0.186984</td>\n",
       "      <td>2018.000000</td>\n",
       "    </tr>\n",
       "    <tr>\n",
       "      <th>75%</th>\n",
       "      <td>115.000000</td>\n",
       "      <td>116.000000</td>\n",
       "      <td>6.226225</td>\n",
       "      <td>1.295961</td>\n",
       "      <td>0.790795</td>\n",
       "      <td>0.559000</td>\n",
       "      <td>0.164000</td>\n",
       "      <td>0.258494</td>\n",
       "      <td>2020.000000</td>\n",
       "    </tr>\n",
       "    <tr>\n",
       "      <th>max</th>\n",
       "      <td>157.000000</td>\n",
       "      <td>158.000000</td>\n",
       "      <td>7.842000</td>\n",
       "      <td>2.209000</td>\n",
       "      <td>1.141000</td>\n",
       "      <td>0.740000</td>\n",
       "      <td>0.587000</td>\n",
       "      <td>0.838075</td>\n",
       "      <td>2022.000000</td>\n",
       "    </tr>\n",
       "  </tbody>\n",
       "</table>\n",
       "</div>"
      ],
      "text/plain": [
       "        Unnamed: 0  Happiness Rank  Happiness Score  Economy (GDP per Capita)  \\\n",
       "count  1230.000000     1230.000000      1230.000000               1230.000000   \n",
       "mean     76.425203       77.420325         5.430092                  0.976255   \n",
       "std      44.486461       44.486654         1.115361                  0.435247   \n",
       "min       0.000000        1.000000         2.404000                  0.000000   \n",
       "25%      38.000000       39.000000         4.584500                  0.668250   \n",
       "50%      76.000000       77.000000         5.410500                  1.013580   \n",
       "75%     115.000000      116.000000         6.226225                  1.295961   \n",
       "max     157.000000      158.000000         7.842000                  2.209000   \n",
       "\n",
       "       Health (Life Expectancy)      Freedom  Trust (Government Corruption)  \\\n",
       "count               1230.000000  1230.000000                    1230.000000   \n",
       "mean                   0.608132     0.440833                       0.130913   \n",
       "std                    0.241249     0.154415                       0.110910   \n",
       "min                    0.000000     0.000000                       0.000000   \n",
       "25%                    0.439250     0.344250                       0.056000   \n",
       "50%                    0.639427     0.458135                       0.096000   \n",
       "75%                    0.790795     0.559000                       0.164000   \n",
       "max                    1.141000     0.740000                       0.587000   \n",
       "\n",
       "        Generosity         Year  \n",
       "count  1230.000000  1230.000000  \n",
       "mean      0.201583  2018.447154  \n",
       "std       0.115522     2.282716  \n",
       "min       0.000000  2015.000000  \n",
       "25%       0.118000  2016.000000  \n",
       "50%       0.186984  2018.000000  \n",
       "75%       0.258494  2020.000000  \n",
       "max       0.838075  2022.000000  "
      ]
     },
     "execution_count": 389,
     "metadata": {},
     "output_type": "execute_result"
    }
   ],
   "source": [
    "df_merged.describe()"
   ]
  },
  {
   "cell_type": "markdown",
   "id": "0d79aa76",
   "metadata": {},
   "source": [
    "## [Go to TOP](#INDEX)"
   ]
  }
 ],
 "metadata": {
  "kernelspec": {
   "display_name": "Python 3 (ipykernel)",
   "language": "python",
   "name": "python3"
  },
  "language_info": {
   "codemirror_mode": {
    "name": "ipython",
    "version": 3
   },
   "file_extension": ".py",
   "mimetype": "text/x-python",
   "name": "python",
   "nbconvert_exporter": "python",
   "pygments_lexer": "ipython3",
   "version": "3.11.4"
  }
 },
 "nbformat": 4,
 "nbformat_minor": 5
}
